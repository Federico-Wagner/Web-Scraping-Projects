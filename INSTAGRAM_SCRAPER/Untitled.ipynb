{
 "cells": [
  {
   "cell_type": "code",
   "execution_count": 1,
   "id": "3f5557e6-212e-434e-9bea-cb7faf95d2bf",
   "metadata": {},
   "outputs": [],
   "source": [
    "from selenium.webdriver.common.by import By\n",
    "from selenium.webdriver.common.keys import Keys\n",
    "from selenium.webdriver.support.ui import WebDriverWait\n",
    "from selenium.webdriver.support import expected_conditions as EC\n",
    "import time\n",
    "import requests\n",
    "from selenium import webdriver\n",
    "import os\n"
   ]
  },
  {
   "cell_type": "code",
   "execution_count": 2,
   "id": "c6995dec-815d-468e-8a80-f6505fcbb14a",
   "metadata": {},
   "outputs": [
    {
     "name": "stderr",
     "output_type": "stream",
     "text": [
      "C:\\Users\\29-04-21\\AppData\\Local\\Temp/ipykernel_2760/2376060010.py:2: DeprecationWarning: executable_path has been deprecated, please pass in a Service object\n",
      "  driver = webdriver.Chrome(PATH)\n"
     ]
    }
   ],
   "source": [
    "PATH = \"chromedriver.exe\"\n",
    "driver = webdriver.Chrome(PATH)\n",
    "user_name = \"fede.wag\"\n",
    "password = \"fedemara\"\n",
    "look_up_for = \"crystalycrystalina\"\n"
   ]
  },
  {
   "cell_type": "code",
   "execution_count": 3,
   "id": "9c2591dc-ecec-429b-98a6-30599a548a2f",
   "metadata": {},
   "outputs": [],
   "source": [
    "\t\tdriver.implicitly_wait(3)\n",
    "\t\tdriver.set_window_size(670, 1024)\n",
    "\t\tdriver.get(\"https://www.instagram.com/\")\n",
    "\t\ttime.sleep(2)"
   ]
  },
  {
   "cell_type": "code",
   "execution_count": 4,
   "id": "5bb8dc4e-0afe-4b00-a3ed-029580cc0e3c",
   "metadata": {},
   "outputs": [],
   "source": [
    "#LOG IN\n",
    "user_name_box = WebDriverWait(driver, 15).until(EC.element_to_be_clickable((By.CSS_SELECTOR, \"input[name='username']\")))\n",
    "user_pass_box = WebDriverWait(driver, 15).until(EC.element_to_be_clickable((By.CSS_SELECTOR, \"input[name='password']\")))\n",
    "user_name_box.send_keys(user_name)\n",
    "user_pass_box.send_keys(password)\n",
    "time.sleep(0.2)\n",
    "WebDriverWait(driver, 15).until(EC.element_to_be_clickable((By.CSS_SELECTOR, \"button.y3zKF\"))).click()"
   ]
  },
  {
   "cell_type": "code",
   "execution_count": 5,
   "id": "054d2e00-0b92-4788-ab5b-159ebbcbef94",
   "metadata": {},
   "outputs": [],
   "source": [
    "#close_pop_ups\n",
    "WebDriverWait(driver,15).until(EC.element_to_be_clickable((By.XPATH, \"//button[contains(text(), 'Not Now')]\"))).click()\n",
    "WebDriverWait(driver, 15).until(EC.element_to_be_clickable((By.XPATH, \"//button[contains(text(), 'Not Now')]\"))).click()"
   ]
  },
  {
   "cell_type": "code",
   "execution_count": 6,
   "id": "bd79e5a5-978f-4416-a62b-27ffcb9bf269",
   "metadata": {},
   "outputs": [
    {
     "name": "stdout",
     "output_type": "stream",
     "text": [
      "crystalycrystalina\n",
      "https://www.instagram.com/crystalycrystalina/\n"
     ]
    }
   ],
   "source": [
    "#search\n",
    "search_bar = WebDriverWait(driver, 15).until(EC.element_to_be_clickable((By.CSS_SELECTOR, 'input[placeholder = \"Search\"]')))\n",
    "search_bar.send_keys(look_up_for)\n",
    "time.sleep(0.5)\n",
    "result_list = driver.find_element(By.CLASS_NAME, \"fuqBx \")\n",
    "results = result_list.find_elements(By.CSS_SELECTOR, \"a.-qQT3\")\n",
    "\n",
    "#inspect\n",
    "res_aum = 1\n",
    "for result in results[:res_aum]:\n",
    "\tprint(result.find_element(By.CLASS_NAME, \"uL8Hv\").text)\n",
    "\tprint(result.get_attribute('href'))\n",
    "pages = [result.get_attribute('href') for result in results[:res_aum]]\n"
   ]
  },
  {
   "cell_type": "code",
   "execution_count": 13,
   "id": "588e50c0-5544-4d3a-9a22-88fb16183b4d",
   "metadata": {
    "tags": []
   },
   "outputs": [
    {
     "name": "stdout",
     "output_type": "stream",
     "text": [
      "https://instagram.faep24-1.fna.fbcdn.net/v/t51.2885-15/sh0.08/e35/s640x640/270196518_242629104650279_7335576074417282857_n.jpg?_nc_ht=instagram.faep24-1.fna.fbcdn.net&_nc_cat=111&_nc_ohc=pCrqYg6s_0kAX8d76QA&edm=ABfd0MgBAAAA&ccb=7-4&oh=00_AT-7VWF4EXFq3mKAbe-48j6MnQ7Cm7Xb-R1f4BwAJ5tN-Q&oe=61E94CDB&_nc_sid=7bff83\n",
      "https://instagram.faep24-1.fna.fbcdn.net/v/t51.2885-15/sh0.08/e35/c0.280.720.720a/s640x640/269695668_484743399650618_5598693132938729335_n.jpg?_nc_ht=instagram.faep24-1.fna.fbcdn.net&_nc_cat=102&_nc_ohc=2sZWIVhfktgAX89z18-&edm=ABfd0MgBAAAA&ccb=7-4&oh=00_AT82--jLOlkDLqnK3cC8Y6oah8zlngxjKVRO4UCEcCp9zg&oe=61E3F2E1&_nc_sid=7bff83\n",
      "https://instagram.faep24-1.fna.fbcdn.net/v/t51.2885-15/sh0.08/e35/s640x640/267347870_458272682380388_1017387582728023165_n.jpg?_nc_ht=instagram.faep24-1.fna.fbcdn.net&_nc_cat=108&_nc_ohc=U3HBboBAKBkAX-MFYNF&edm=ABfd0MgBAAAA&ccb=7-4&oh=00_AT-5ZzbKQCg3zXyxCfVn6kZYaLVbvSjSzcNkOUgX9IlMiA&oe=61E97EC1&_nc_sid=7bff83\n",
      "https://instagram.faep24-1.fna.fbcdn.net/v/t51.2885-15/sh0.08/e35/c0.168.1440.1440a/s640x640/263773512_605008487406387_8498153759147479832_n.jpg?_nc_ht=instagram.faep24-1.fna.fbcdn.net&_nc_cat=103&_nc_ohc=fsRRXp_zi68AX_9muC6&edm=ABfd0MgBAAAA&ccb=7-4&oh=00_AT8sV0m-uwtp8kubaztUTvNxIz1DBONwclASubZj4sVYaQ&oe=61E8DEDA&_nc_sid=7bff83\n",
      "https://instagram.faep24-1.fna.fbcdn.net/v/t51.2885-15/sh0.08/e35/s640x640/261525513_1032758327575466_851725629112766392_n.jpg?_nc_ht=instagram.faep24-1.fna.fbcdn.net&_nc_cat=102&_nc_ohc=eeAxEXSmRdAAX-IKITQ&edm=ABfd0MgBAAAA&ccb=7-4&oh=00_AT_rex4MVvRf23GdpGHtTr0j5VrYX6ZYpJk1Vrm1Lfxs7w&oe=61E8DA0D&_nc_sid=7bff83\n",
      "https://instagram.faep24-1.fna.fbcdn.net/v/t51.2885-15/sh0.08/e35/c0.36.1440.1440a/s640x640/261036259_952228145707114_7155426465768733953_n.jpg?_nc_ht=instagram.faep24-1.fna.fbcdn.net&_nc_cat=110&_nc_ohc=h4INo30A06oAX_9IHNS&tn=YtmVweepVitSoRXv&edm=ABfd0MgBAAAA&ccb=7-4&oh=00_AT94GVxos-yAEgUg5ZDKa9TrlgtGV6Oa2aotbiaVT27O8g&oe=61E78FB7&_nc_sid=7bff83\n",
      "https://instagram.faep24-1.fna.fbcdn.net/v/t51.2885-15/sh0.08/e35/s640x640/257539665_444928430401669_1818831963794150156_n.jpg?_nc_ht=instagram.faep24-1.fna.fbcdn.net&_nc_cat=101&_nc_ohc=5Iw-_LneEb0AX_t_h4p&edm=ABfd0MgBAAAA&ccb=7-4&oh=00_AT-8lUL_Rh6_nVmRuBgv-ddZuK0lTplTyaU-aNaCjqNiKw&oe=61E7DA45&_nc_sid=7bff83\n",
      "https://instagram.faep24-1.fna.fbcdn.net/v/t51.2885-15/sh0.08/e35/c0.26.1073.1073a/s640x640/256229743_186323333691669_1156383494297791532_n.jpg?_nc_ht=instagram.faep24-1.fna.fbcdn.net&_nc_cat=109&_nc_ohc=utunAPsadfgAX_UqNRE&edm=ABfd0MgBAAAA&ccb=7-4&oh=00_AT8ACL9maiR3qoiTkcJfL71M4wiF3hIP5CkzX4P-_hL--Q&oe=61E95E8B&_nc_sid=7bff83\n",
      "https://instagram.faep24-1.fna.fbcdn.net/v/t51.2885-15/sh0.08/e35/c0.118.1440.1440a/s640x640/255607793_393412655838219_5960200199182796543_n.jpg?_nc_ht=instagram.faep24-1.fna.fbcdn.net&_nc_cat=103&_nc_ohc=yVX_Sk8TZvMAX-PUySx&edm=ABfd0MgBAAAA&ccb=7-4&oh=00_AT_gd519hKayfAb1Cgei1wctbfKBruwKkIzT-eRByd6efg&oe=61E7A43B&_nc_sid=7bff83\n",
      "https://instagram.faep24-1.fna.fbcdn.net/v/t51.2885-15/sh0.08/e35/c0.44.782.782a/s640x640/252777394_4197799080343534_5252997318762292423_n.jpg?_nc_ht=instagram.faep24-1.fna.fbcdn.net&_nc_cat=110&_nc_ohc=MoLAtbzFW6EAX8a7s4f&edm=ABfd0MgBAAAA&ccb=7-4&oh=00_AT_-egTVOn6BWNyRWLQX9PSqLc1Ck6pvZ38pEa_z2T4ETA&oe=61E8796E&_nc_sid=7bff83\n",
      "https://instagram.faep24-1.fna.fbcdn.net/v/t51.2885-15/sh0.08/e35/c0.53.1440.1440a/s640x640/251998842_446814970397796_1744742929365365431_n.jpg?_nc_ht=instagram.faep24-1.fna.fbcdn.net&_nc_cat=100&_nc_ohc=XwFEupNywP8AX9gW6dv&edm=ABfd0MgBAAAA&ccb=7-4&oh=00_AT9XMQYlC4UubKNi5XbNEbHRFy2cgX7OS0ifeSZbXGvJFA&oe=61E89C09&_nc_sid=7bff83\n",
      "https://instagram.faep24-1.fna.fbcdn.net/v/t51.2885-15/sh0.08/e35/s640x640/251080692_1288251164933319_8372561963495880049_n.jpg?_nc_ht=instagram.faep24-1.fna.fbcdn.net&_nc_cat=103&_nc_ohc=1iBxm_SYdHQAX9FgYMt&tn=YtmVweepVitSoRXv&edm=ABfd0MgBAAAA&ccb=7-4&oh=00_AT-4gpcKaWrZPjfuXpH0o-YDqzdb1R86f8pA8QSV7C4m9w&oe=61E8CCCA&_nc_sid=7bff83\n",
      "https://instagram.faep24-1.fna.fbcdn.net/v/t51.2885-15/sh0.08/e35/s640x640/250685270_432092465020295_5323049126182762038_n.jpg?_nc_ht=instagram.faep24-1.fna.fbcdn.net&_nc_cat=111&_nc_ohc=4Ge1ZC-QEKkAX83G2V9&tn=YtmVweepVitSoRXv&edm=APU89FABAAAA&ccb=7-4&oh=00_AT9rUn1-M_oVrQdGYOninX6YcT15o4MbFun_r7wzhk_Bnw&oe=61E7AE8D&_nc_sid=86f79a\n",
      "https://instagram.faep24-1.fna.fbcdn.net/v/t51.2885-15/sh0.08/e35/s640x640/250446066_1010927019477394_4700800359557466112_n.jpg?_nc_ht=instagram.faep24-1.fna.fbcdn.net&_nc_cat=110&_nc_ohc=sbuGeiyAaWIAX-QmIoe&edm=APU89FABAAAA&ccb=7-4&oh=00_AT85Nkb3E-yeRrGty9s-6bkhC-e3xIrUz8rZOmWdVJbTuQ&oe=61E8FFD5&_nc_sid=86f79a\n",
      "https://instagram.faep24-1.fna.fbcdn.net/v/t51.2885-15/sh0.08/e35/c0.56.1440.1440a/s640x640/249176966_622142359155615_4780179612480392342_n.jpg?_nc_ht=instagram.faep24-1.fna.fbcdn.net&_nc_cat=103&_nc_ohc=zqkl9yuCao8AX8wt52-&edm=APU89FABAAAA&ccb=7-4&oh=00_AT-oGhUSnJw5wQKRz2-nWvYnzC0jqe3ubrB5z_k3FKlXIQ&oe=61E865D4&_nc_sid=86f79a\n",
      "https://instagram.faep24-1.fna.fbcdn.net/v/t51.2885-15/sh0.08/e35/s640x640/249100090_243569294318544_427402276475667698_n.jpg?_nc_ht=instagram.faep24-1.fna.fbcdn.net&_nc_cat=100&_nc_ohc=9EtdyezvNnAAX-nkxIX&edm=APU89FABAAAA&ccb=7-4&oh=00_AT_C3d5v33bzw_9T63x6jS10Ey8Pn-8XFpunbrsRABwJ4w&oe=61E7F919&_nc_sid=86f79a\n",
      "https://instagram.faep24-1.fna.fbcdn.net/v/t51.2885-15/sh0.08/e35/c0.0.1439.1439a/s640x640/247672790_286993606761380_5548802368558611042_n.jpg?_nc_ht=instagram.faep24-1.fna.fbcdn.net&_nc_cat=108&_nc_ohc=HL0GM63lDj8AX84Y32t&tn=YtmVweepVitSoRXv&edm=APU89FABAAAA&ccb=7-4&oh=00_AT9als16BCfmf4NsAPpcWCD34jpJFk1kfY3sQtpYSF5XrA&oe=61E87448&_nc_sid=86f79a\n",
      "https://instagram.faep24-1.fna.fbcdn.net/v/t51.2885-15/sh0.08/e35/c0.0.1439.1439a/s640x640/246039132_829558231071636_6401313462506175855_n.jpg?_nc_ht=instagram.faep24-1.fna.fbcdn.net&_nc_cat=100&_nc_ohc=abphVxXLpHsAX82ZGy9&tn=YtmVweepVitSoRXv&edm=APU89FABAAAA&ccb=7-4&oh=00_AT8j6NIBrPFRs8f66lzS1zSCpvla_NaL_rcTYoKFORanKw&oe=61E8B157&_nc_sid=86f79a\n",
      "https://instagram.faep24-1.fna.fbcdn.net/v/t51.2885-15/sh0.08/e35/c63.0.808.808a/s640x640/245316081_1227366751091072_2864328709233487085_n.jpg?_nc_ht=instagram.faep24-1.fna.fbcdn.net&_nc_cat=108&_nc_ohc=ByNkpnEOctkAX9O8Yt1&edm=APU89FABAAAA&ccb=7-4&oh=00_AT_HpXB2tfP8bWqKOKI4VoTVBcA5-DhfE-zxGhfiLSZpxQ&oe=61E80C44&_nc_sid=86f79a\n",
      "https://instagram.faep24-1.fna.fbcdn.net/v/t51.2885-15/sh0.08/e35/c0.5.1440.1440a/s640x640/243136653_1502345350131926_5286986454273568457_n.jpg?_nc_ht=instagram.faep24-1.fna.fbcdn.net&_nc_cat=102&_nc_ohc=I56PxNNJlx4AX9qfB-m&edm=APU89FABAAAA&ccb=7-4&oh=00_AT8mzoe6tToIeiJmbKEtyTvd0TGrlpaqv4BmO11d9Kttmg&oe=61E901DB&_nc_sid=86f79a\n",
      "https://instagram.faep24-1.fna.fbcdn.net/v/t51.2885-15/sh0.08/e35/s640x640/243099589_1074786370005690_7531262992719708540_n.jpg?_nc_ht=instagram.faep24-1.fna.fbcdn.net&_nc_cat=106&_nc_ohc=NBbrv81CEEcAX9j7tjG&edm=APU89FABAAAA&ccb=7-4&oh=00_AT-9vu9idCpdeYfW3XA-2TcCeWkEtmmLziXI4gDdF8GqMA&oe=61E95D7F&_nc_sid=86f79a\n",
      "https://instagram.faep24-1.fna.fbcdn.net/v/t51.2885-15/sh0.08/e35/c0.834.2150.2150a/s640x640/242196340_115733167504442_7112833979489459356_n.jpg?_nc_ht=instagram.faep24-1.fna.fbcdn.net&_nc_cat=102&_nc_ohc=xAATgEr0UCQAX9QB67H&edm=APU89FABAAAA&ccb=7-4&oh=00_AT-R4gtZa2p6xG1Ek-63k5_WrWM1bNYHdhEyd5RQDPKe7A&oe=61E3ACA0&_nc_sid=86f79a\n",
      "https://instagram.faep24-1.fna.fbcdn.net/v/t51.2885-15/sh0.08/e35/s640x640/242069375_537918410770045_9152200138982033070_n.jpg?_nc_ht=instagram.faep24-1.fna.fbcdn.net&_nc_cat=101&_nc_ohc=YkFiQixIvM0AX-yPACc&edm=APU89FABAAAA&ccb=7-4&oh=00_AT9nWv2yAbMbhsyeAdL_Kjvm7c0X1uCHXOC0EAu3HTZ9Rw&oe=61E89F2A&_nc_sid=86f79a\n",
      "https://instagram.faep24-1.fna.fbcdn.net/v/t51.2885-15/sh0.08/e35/s640x640/241873970_173387414935425_2772852589079645515_n.jpg?_nc_ht=instagram.faep24-1.fna.fbcdn.net&_nc_cat=109&_nc_ohc=CbajDTFCV0UAX_RDZxd&edm=APU89FABAAAA&ccb=7-4&oh=00_AT9aINosoUtJHikqRNA1UH6kb3QelqbmXR_Z9xh975n4Ew&oe=61E80755&_nc_sid=86f79a\n",
      "https://instagram.faep24-1.fna.fbcdn.net/v/t51.2885-15/sh0.08/e35/s640x640/241487227_907190760202279_3630566271104445434_n.jpg?_nc_ht=instagram.faep24-1.fna.fbcdn.net&_nc_cat=107&_nc_ohc=8tEfPxvRtmAAX8Mx6-I&edm=APU89FABAAAA&ccb=7-4&oh=00_AT-qqu8JesMR6ExxK842CUlh70KTrRjRh31KVkegYRjHUQ&oe=61E8B39A&_nc_sid=86f79a\n",
      "https://instagram.faep24-1.fna.fbcdn.net/v/t51.2885-15/sh0.08/e35/s640x640/241313639_293921175829355_3928979220047018560_n.jpg?_nc_ht=instagram.faep24-1.fna.fbcdn.net&_nc_cat=111&_nc_ohc=5Yzdog0iMM0AX8b6mL_&edm=APU89FABAAAA&ccb=7-4&oh=00_AT_aYpDjl7tavhollgRkSLtEWyK6NNiTusdyk6Yoili5LQ&oe=61E8F261&_nc_sid=86f79a\n",
      "https://instagram.faep24-1.fna.fbcdn.net/v/t51.2885-15/sh0.08/e35/s640x640/240944347_1187142591793244_1780222226633644707_n.jpg?_nc_ht=instagram.faep24-1.fna.fbcdn.net&_nc_cat=108&_nc_ohc=BLBcAqAU9HkAX9lWhmB&edm=APU89FABAAAA&ccb=7-4&oh=00_AT-HpoiAVQaklv-QmeJ_4IWzVrmJFXGc6_m9EksPz8LZMg&oe=61E81BF9&_nc_sid=86f79a\n",
      "https://instagram.faep24-1.fna.fbcdn.net/v/t51.2885-15/sh0.08/e35/c0.280.720.720a/s640x640/240647468_198032465723193_2918882746183697555_n.jpg?_nc_ht=instagram.faep24-1.fna.fbcdn.net&_nc_cat=109&_nc_ohc=vXCsm0kBNHkAX-n13Vj&tn=YtmVweepVitSoRXv&edm=APU89FABAAAA&ccb=7-4&oh=00_AT_4ZUZX-MK0rQpoCsjk1J2RodCcMv81xOC70Sb_YoAjtA&oe=61E3E294&_nc_sid=86f79a\n",
      "https://instagram.faep24-1.fna.fbcdn.net/v/t51.2885-15/sh0.08/e35/s640x640/240403436_1011811843078327_2296292832201617239_n.jpg?_nc_ht=instagram.faep24-1.fna.fbcdn.net&_nc_cat=107&_nc_ohc=A3bnga5Waj4AX83My71&edm=APU89FABAAAA&ccb=7-4&oh=00_AT8KQSbwd3_Uk0pvnkLvUy2L4j9rzYya6wO3NKO1FD_Vog&oe=61E8B5DB&_nc_sid=86f79a\n",
      "https://instagram.faep24-1.fna.fbcdn.net/v/t51.2885-15/sh0.08/e35/s640x640/239828378_1669172893271339_5980098523515692364_n.jpg?_nc_ht=instagram.faep24-1.fna.fbcdn.net&_nc_cat=111&_nc_ohc=WWgTONL3q0QAX8AoseH&edm=APU89FABAAAA&ccb=7-4&oh=00_AT8pvJvwM_eyQwtxFbiEm-LEddCIL27TbIDzb2PAnqh0Mw&oe=61E7F7A4&_nc_sid=86f79a\n",
      "https://instagram.faep24-1.fna.fbcdn.net/v/t51.2885-15/sh0.08/e35/s640x640/239745443_807082043321380_6619295588279350664_n.jpg?_nc_ht=instagram.faep24-1.fna.fbcdn.net&_nc_cat=104&_nc_ohc=7M-Aub3GQ9wAX-v4WiK&edm=APU89FABAAAA&ccb=7-4&oh=00_AT_NQV7GRSyLmZbSpIXTkCK37w1UENpAMrsv_Mskb9bb3w&oe=61E93919&_nc_sid=86f79a\n",
      "https://instagram.faep24-1.fna.fbcdn.net/v/t51.2885-15/sh0.08/e35/c0.280.720.720a/s640x640/238562163_1272323686551467_7448362399046991052_n.jpg?_nc_ht=instagram.faep24-1.fna.fbcdn.net&_nc_cat=111&_nc_ohc=uDiG2FecHJkAX9CQJTG&edm=APU89FABAAAA&ccb=7-4&oh=00_AT-23XM19Jo1qm0KFq1E2sBhl_fNU1MrFDlEF_-Q96Gm6w&oe=61E42673&_nc_sid=86f79a\n",
      "https://instagram.faep24-1.fna.fbcdn.net/v/t51.2885-15/sh0.08/e35/s640x640/237077727_377819813861193_4186201545840104785_n.jpg?_nc_ht=instagram.faep24-1.fna.fbcdn.net&_nc_cat=109&_nc_ohc=LdEEWaic8SAAX8uelPr&edm=APU89FABAAAA&ccb=7-4&oh=00_AT-Go8_5b-KmRL0GhNLbnfCUtlcb3t4Qx-g-XjNobK5pMw&oe=61E3CF8B&_nc_sid=86f79a\n",
      "https://instagram.faep24-1.fna.fbcdn.net/v/t51.2885-15/sh0.08/e35/c0.160.1279.1279a/s640x640/235338988_379928787033181_8280339780439933078_n.jpg?_nc_ht=instagram.faep24-1.fna.fbcdn.net&_nc_cat=101&_nc_ohc=DM7oFf9Ls2kAX8LjmET&edm=APU89FABAAAA&ccb=7-4&oh=00_AT8E-l3q4fbCvzemJ_y5OHOpX785NhPR33K7nAOx5audqg&oe=61E955FF&_nc_sid=86f79a\n",
      "https://instagram.faep24-1.fna.fbcdn.net/v/t51.2885-15/sh0.08/e35/s640x640/231596781_854736808490736_471901382746053979_n.jpg?_nc_ht=instagram.faep24-1.fna.fbcdn.net&_nc_cat=100&_nc_ohc=7eUQ85KLMJEAX9R5NxQ&tn=YtmVweepVitSoRXv&edm=APU89FABAAAA&ccb=7-4&oh=00_AT9pgnZhAl6th63oOpmbD9t-WW0VFm6muzJQqwkUKwWNig&oe=61E8B49A&_nc_sid=86f79a\n",
      "https://instagram.faep24-1.fna.fbcdn.net/v/t51.2885-15/sh0.08/e35/c0.78.1440.1440a/s640x640/226490914_240487397920885_8390231445079195856_n.jpg?_nc_ht=instagram.faep24-1.fna.fbcdn.net&_nc_cat=101&_nc_ohc=rbnpmSnAdsAAX-xBecG&edm=APU89FABAAAA&ccb=7-4&oh=00_AT9wrQxsJp8DZp5wIIXSe27t91TdAZGpWqB0WikMIBLQ_w&oe=61E7BEA5&_nc_sid=86f79a\n",
      "https://instagram.faep24-1.fna.fbcdn.net/v/t51.2885-15/sh0.08/e35/s640x640/224012650_773587026671065_4293161366921012357_n.jpg?_nc_ht=instagram.faep24-1.fna.fbcdn.net&_nc_cat=101&_nc_ohc=nfIVK8bJoVMAX8C02Gq&edm=APU89FABAAAA&ccb=7-4&oh=00_AT9FyxFzvBX8Y8iJvslhBeHJYix7hDMs8VJSnqpjLDiS5w&oe=61E7D2DD&_nc_sid=86f79a\n",
      "https://instagram.faep24-1.fna.fbcdn.net/v/t51.2885-15/sh0.08/e35/c12.0.1230.1230a/s640x640/222168955_231514512151779_3886966146354462295_n.jpg?_nc_ht=instagram.faep24-1.fna.fbcdn.net&_nc_cat=103&_nc_ohc=UCfKNsOEEm4AX-ibHon&edm=APU89FABAAAA&ccb=7-4&oh=00_AT-g1XNZEGH4-fvfYBRkIczAfOCoxT3tvQwcf0W0s7WofQ&oe=61E86F3F&_nc_sid=86f79a\n",
      "https://instagram.faep24-1.fna.fbcdn.net/v/t51.2885-15/sh0.08/e35/c0.5.1440.1440a/s640x640/218957388_190492396282599_4607149199047035944_n.jpg?_nc_ht=instagram.faep24-1.fna.fbcdn.net&_nc_cat=103&_nc_ohc=VL_eN2IVj7gAX8uFmV9&edm=APU89FABAAAA&ccb=7-4&oh=00_AT-wPRDGvH6XlJzDQres-qOnJsDCzNFmtw-axfpp5IMALg&oe=61E940EC&_nc_sid=86f79a\n",
      "https://instagram.faep24-1.fna.fbcdn.net/v/t51.2885-15/sh0.08/e35/c0.165.1440.1440a/s640x640/205611508_867536984110794_5710506445427459291_n.jpg?_nc_ht=instagram.faep24-1.fna.fbcdn.net&_nc_cat=106&_nc_ohc=93Pm89IbF8MAX8dnwQR&edm=APU89FABAAAA&ccb=7-4&oh=00_AT-0F0WtCeMQvXElZqTmyiA7otE7rmYPambsKoze-WNc4A&oe=61E83AF8&_nc_sid=86f79a\n",
      "https://instagram.faep24-1.fna.fbcdn.net/v/t51.2885-15/sh0.08/e35/s640x640/200709095_366948104784568_8007111596854272777_n.jpg?_nc_ht=instagram.faep24-1.fna.fbcdn.net&_nc_cat=104&_nc_ohc=EMqOIrPvRRAAX8sJTTF&edm=APU89FABAAAA&ccb=7-4&oh=00_AT9wjNY9DEEsaUbnR6arezvOVVuv4HaZipsX89La1mAcaQ&oe=61E8D03E&_nc_sid=86f79a\n",
      "https://instagram.faep24-1.fna.fbcdn.net/v/t51.2885-15/sh0.08/e35/c0.0.1439.1439a/s640x640/195325628_1138888993277506_5730115391661151890_n.jpg?_nc_ht=instagram.faep24-1.fna.fbcdn.net&_nc_cat=110&_nc_ohc=Gky3f6B-nREAX9p1i92&edm=APU89FABAAAA&ccb=7-4&oh=00_AT_Kn1ZSdMAIB63rOK1fl5d-l9-4E0WKS9TcPuD9sb0hvg&oe=61E9026F&_nc_sid=86f79a\n",
      "https://instagram.faep24-1.fna.fbcdn.net/v/t51.2885-15/sh0.08/e35/s640x640/187355374_298678431953654_8042045141275849180_n.jpg?_nc_ht=instagram.faep24-1.fna.fbcdn.net&_nc_cat=102&_nc_ohc=lh4IloHgHYEAX9rH8Ap&edm=APU89FABAAAA&ccb=7-4&oh=00_AT8-emEwK6OXJotOvc1LaMMsG-dsWEm-pxONjfj4JC4UPA&oe=61E7D363&_nc_sid=86f79a\n",
      "https://instagram.faep24-1.fna.fbcdn.net/v/t51.2885-15/sh0.08/e35/c0.0.1439.1439a/s640x640/185129490_289743639301180_9054689737041460841_n.jpg?_nc_ht=instagram.faep24-1.fna.fbcdn.net&_nc_cat=104&_nc_ohc=9Wm6VJPCBScAX_uZm_U&edm=APU89FABAAAA&ccb=7-4&oh=00_AT-cooem8GLJMMBaS1dTFY-Zk4CV8DDo1VeGnYQcyTkGcA&oe=61E7E543&_nc_sid=86f79a\n",
      "https://instagram.faep24-1.fna.fbcdn.net/v/t51.2885-15/sh0.08/e35/s640x640/183912901_468140640924602_1613632087937387052_n.jpg?_nc_ht=instagram.faep24-1.fna.fbcdn.net&_nc_cat=102&_nc_ohc=ZF9WGaZ7ibAAX8lvsLt&tn=YtmVweepVitSoRXv&edm=APU89FABAAAA&ccb=7-4&oh=00_AT_QLJyUg81XCGdeggMDkTMipwD-ocIKUB8x6h1qVfi56Q&oe=61E8C99B&_nc_sid=86f79a\n",
      "https://instagram.faep24-1.fna.fbcdn.net/v/t51.2885-15/sh0.08/e35/c0.59.1440.1440a/s640x640/183221052_165486525404246_2815272470077616458_n.jpg?_nc_ht=instagram.faep24-1.fna.fbcdn.net&_nc_cat=102&_nc_ohc=6Dk9dsDC34UAX-B34nx&edm=APU89FABAAAA&ccb=7-4&oh=00_AT904eGV6H0_UDzrAs5RgvtHBZTn3-pYvX4_6ubHspYoyQ&oe=61E891E0&_nc_sid=86f79a\n",
      "https://instagram.faep24-1.fna.fbcdn.net/v/t51.2885-15/sh0.08/e35/c207.0.1001.1001a/s640x640/183568687_275467427569671_7010199009593687927_n.jpg?_nc_ht=instagram.faep24-1.fna.fbcdn.net&_nc_cat=103&_nc_ohc=IFRYo7i1UpcAX_K_WAp&edm=APU89FABAAAA&ccb=7-4&oh=00_AT_GDMoj_t7_ye0bYeciui7q_WftAIlhZF01c2xS-yth0w&oe=61E8644F&_nc_sid=86f79a\n",
      "https://instagram.faep24-1.fna.fbcdn.net/v/t51.2885-15/sh0.08/e35/c0.176.1440.1440a/s640x640/178808331_628131228150552_8843287483030301725_n.jpg?_nc_ht=instagram.faep24-1.fna.fbcdn.net&_nc_cat=100&_nc_ohc=wg5xdASsskoAX8EC2PG&edm=APU89FABAAAA&ccb=7-4&oh=00_AT9BV9UUZTcNHDquQEvlHp8yAlsVGqI99dzrOw96BMXJ1Q&oe=61E7A7A3&_nc_sid=86f79a\n",
      "https://instagram.faep24-1.fna.fbcdn.net/v/t51.2885-15/sh0.08/e35/c0.39.1440.1440a/s640x640/178227504_830098620925642_7759701381767652160_n.jpg?_nc_ht=instagram.faep24-1.fna.fbcdn.net&_nc_cat=110&_nc_ohc=diEZ0ZDr_BwAX_RKV6u&tn=YtmVweepVitSoRXv&edm=APU89FABAAAA&ccb=7-4&oh=00_AT-WVoE97Am-th_nBTvAjbhazW1Qsicm7aF3q3fd1ziznw&oe=61E7E02F&_nc_sid=86f79a\n",
      "https://instagram.faep24-1.fna.fbcdn.net/v/t51.2885-15/sh0.08/e35/s640x640/169909096_454956109134733_1879440492508931789_n.jpg?_nc_ht=instagram.faep24-1.fna.fbcdn.net&_nc_cat=101&_nc_ohc=jEl7nCn6HsEAX-KxPU8&edm=APU89FABAAAA&ccb=7-4&oh=00_AT9yTp3RQ55QBiQ9WARwPc1WHyeetVC2MnGeXGmKomaqYQ&oe=61E94C75&_nc_sid=86f79a\n",
      "https://instagram.faep24-1.fna.fbcdn.net/v/t51.2885-15/sh0.08/e35/s640x640/167056817_942973169779857_8121384699270803670_n.jpg?_nc_ht=instagram.faep24-1.fna.fbcdn.net&_nc_cat=109&_nc_ohc=Dv0d5yG8lcwAX9qhxNx&edm=APU89FABAAAA&ccb=7-4&oh=00_AT9s89cTr-RrGaiT9Ql-qWbWP1xdYlZ6vVT4HiGmISyt9A&oe=61E8E4E5&_nc_sid=86f79a\n",
      "https://instagram.faep24-1.fna.fbcdn.net/v/t51.2885-15/sh0.08/e35/s640x640/162167523_114637250690462_2188250903271499960_n.jpg?_nc_ht=instagram.faep24-1.fna.fbcdn.net&_nc_cat=102&_nc_ohc=5ZeRfZqaRHcAX-UWroW&edm=APU89FABAAAA&ccb=7-4&oh=00_AT8EWQkXltnVfN4yqoWp-1GCR3MNI8_grLfKVnDC6tAHmw&oe=61E8F3A5&_nc_sid=86f79a\n",
      "https://instagram.faep24-1.fna.fbcdn.net/v/t51.2885-15/sh0.08/e35/c0.9.1440.1440a/s640x640/158819147_347059076615271_7368961696301287961_n.jpg?_nc_ht=instagram.faep24-1.fna.fbcdn.net&_nc_cat=103&_nc_ohc=e29nim0nBQgAX9obGvc&tn=YtmVweepVitSoRXv&edm=APU89FABAAAA&ccb=7-4&oh=00_AT9kkVLDbsvXyj0d7lg9cwKxQDBQJJetuxXhFWShGOPjaw&oe=61E82AC1&_nc_sid=86f79a\n",
      "https://instagram.faep24-1.fna.fbcdn.net/v/t51.2885-15/sh0.08/e35/s640x640/157776594_282715749956139_4057073158972240063_n.jpg?_nc_ht=instagram.faep24-1.fna.fbcdn.net&_nc_cat=103&_nc_ohc=uVPUTPgfHXcAX85q2Xj&edm=APU89FABAAAA&ccb=7-4&oh=00_AT8xIt_eLFTgROvTBtxZUGFFBmK245W7tcxoLQV0AYtqRw&oe=61E920D9&_nc_sid=86f79a\n",
      "https://instagram.faep24-1.fna.fbcdn.net/v/t51.2885-15/sh0.08/e35/s640x640/156673825_283238679818756_7684209784860630719_n.jpg?_nc_ht=instagram.faep24-1.fna.fbcdn.net&_nc_cat=108&_nc_ohc=J3MhKgiF13AAX-46JTC&edm=APU89FABAAAA&ccb=7-4&oh=00_AT9fL4CJxkikrpskzW9NGHvpFRUzprqq7H3p7adXDEoSgA&oe=61E8BCC9&_nc_sid=86f79a\n",
      "https://instagram.faep24-1.fna.fbcdn.net/v/t51.2885-15/e35/c123.0.455.455a/154808314_1654989124888888_3903912299470084029_n.jpg?_nc_ht=instagram.faep24-1.fna.fbcdn.net&_nc_cat=104&_nc_ohc=f_0UwuDNPSQAX_ycC06&tn=YtmVweepVitSoRXv&edm=APU89FABAAAA&ccb=7-4&oh=00_AT_iT1DnnwIImG5U6yayViJZ_59vCZDMIFuaTyHyn27k_g&oe=61E841B2&_nc_sid=86f79a\n",
      "https://instagram.faep24-1.fna.fbcdn.net/v/t51.2885-15/sh0.08/e35/c1.0.1075.1075a/s640x640/154815241_3647836038648689_5349069515465418761_n.jpg?_nc_ht=instagram.faep24-1.fna.fbcdn.net&_nc_cat=105&_nc_ohc=NfSzSs83CpcAX8mO7Rl&edm=APU89FABAAAA&ccb=7-4&oh=00_AT8Tgk0vgtRyvmljP6QZKHO3PxCjHzBlh3zCeTacVoJlug&oe=61E9577E&_nc_sid=86f79a\n",
      "https://instagram.faep24-1.fna.fbcdn.net/v/t51.2885-15/sh0.08/e35/s640x640/153682410_2895103634042729_1711666695103411454_n.jpg?_nc_ht=instagram.faep24-1.fna.fbcdn.net&_nc_cat=105&_nc_ohc=3v3GIJa7DhYAX8qhwHO&edm=APU89FABAAAA&ccb=7-4&oh=00_AT8alDDM8Ea2niwywNJZCcWTiHtFYLxNGzGjz1oDo1tZrA&oe=61E79F3C&_nc_sid=86f79a\n",
      "https://instagram.faep24-1.fna.fbcdn.net/v/t51.2885-15/sh0.08/e35/s640x640/153267562_475917450099576_9190980779610062890_n.jpg?_nc_ht=instagram.faep24-1.fna.fbcdn.net&_nc_cat=100&_nc_ohc=0MydtTvaMjYAX-tEsWK&edm=APU89FABAAAA&ccb=7-4&oh=00_AT-sASDR-uFBg3Vj2hY4Jg_Q5I5WutgAAlgcCpf6K7OYVA&oe=61E7F648&_nc_sid=86f79a\n",
      "https://instagram.faep24-1.fna.fbcdn.net/v/t51.2885-15/sh0.08/e35/c32.0.947.947a/s640x640/146247067_1331546230544794_6729342522807401305_n.jpg?_nc_ht=instagram.faep24-1.fna.fbcdn.net&_nc_cat=110&_nc_ohc=2JnvQdgja3MAX9M6KxE&edm=APU89FABAAAA&ccb=7-4&oh=00_AT8pzpa-H4IEIQJgbEQz07QNAp-7_C95Z3Ww8RP957d6dg&oe=61E8D4FF&_nc_sid=86f79a\n",
      "https://instagram.faep24-1.fna.fbcdn.net/v/t51.2885-15/sh0.08/e35/c0.51.1440.1440a/s640x640/142207053_2895126854100483_4300717608707306196_n.jpg?_nc_ht=instagram.faep24-1.fna.fbcdn.net&_nc_cat=103&_nc_ohc=N2ppn3LVs5MAX-cZ1NQ&edm=APU89FABAAAA&ccb=7-4&oh=00_AT-9EHPWRVk8QAHKfiNR-nedzQmFGEiLsubOQg7kpR1Qcw&oe=61E791D9&_nc_sid=86f79a\n",
      "https://instagram.faep24-1.fna.fbcdn.net/v/t51.2885-15/sh0.08/e35/c0.91.1440.1440a/s640x640/140740024_922000918544643_290563453452543009_n.jpg?_nc_ht=instagram.faep24-1.fna.fbcdn.net&_nc_cat=103&_nc_ohc=zRZ2mThGYgcAX9Wz3TR&edm=APU89FABAAAA&ccb=7-4&oh=00_AT_mEXia82kbqPpEbtrI2p7ZUZm96VJ2qUWqbINX73kRYg&oe=61E95156&_nc_sid=86f79a\n",
      "https://instagram.faep24-1.fna.fbcdn.net/v/t51.2885-15/sh0.08/e35/c0.180.1440.1440a/s640x640/139084067_690431311836920_5267055363395359517_n.jpg?_nc_ht=instagram.faep24-1.fna.fbcdn.net&_nc_cat=108&_nc_ohc=huc3jxRR-uYAX8q3Nri&edm=APU89FABAAAA&ccb=7-4&oh=00_AT_ay_TD44cr6hkNkXUyUSybsX_4ShF54VRmCiTTINIOWg&oe=61E80C53&_nc_sid=86f79a\n",
      "https://instagram.faep24-1.fna.fbcdn.net/v/t51.2885-15/sh0.08/e35/c0.43.852.852a/s640x640/138414003_443950470069894_892183743320262643_n.jpg?_nc_ht=instagram.faep24-1.fna.fbcdn.net&_nc_cat=106&_nc_ohc=ZWmvPvmhkT0AX9VXho5&tn=YtmVweepVitSoRXv&edm=APU89FABAAAA&ccb=7-4&oh=00_AT8ccBH4fIQL0LtbCQ9xqr4qbATP0mIkYTg31G95HNMVeQ&oe=61E7CD4D&_nc_sid=86f79a\n",
      "https://instagram.faep24-1.fna.fbcdn.net/v/t51.2885-15/sh0.08/e35/c0.82.1149.1149a/s640x640/133816574_859180698190475_2457069337242887165_n.jpg?_nc_ht=instagram.faep24-1.fna.fbcdn.net&_nc_cat=111&_nc_ohc=7Jr4d3UQtEsAX_Xk5Ib&tn=YtmVweepVitSoRXv&edm=APU89FABAAAA&ccb=7-4&oh=00_AT_Rc1RUZdnIBE9XNCz6kGglhN_RnVFtg9gwkdFQyzcVbg&oe=61E975B3&_nc_sid=86f79a\n",
      "https://instagram.faep24-1.fna.fbcdn.net/v/t51.2885-15/sh0.08/e35/s640x640/133035032_450150615989873_2210159810402056526_n.jpg?_nc_ht=instagram.faep24-1.fna.fbcdn.net&_nc_cat=105&_nc_ohc=3hmC3TBBTBEAX87Ojli&tn=YtmVweepVitSoRXv&edm=APU89FABAAAA&ccb=7-4&oh=00_AT-4d5xmVN3lA3aqO8uc06GABPjO4h9ljCMcHfvQ5jkHDw&oe=61E90CB0&_nc_sid=86f79a\n",
      "https://instagram.faep24-1.fna.fbcdn.net/v/t51.2885-15/sh0.08/e35/s640x640/131889169_393780245376332_3211551082071831486_n.jpg?_nc_ht=instagram.faep24-1.fna.fbcdn.net&_nc_cat=108&_nc_ohc=SwaIvMMlmMIAX_Mv5Uh&tn=YtmVweepVitSoRXv&edm=APU89FABAAAA&ccb=7-4&oh=00_AT-chJnlXdtYzCn3FECWSnmUTeCrJch5k6Oku2KlFmmGzA&oe=61E955F5&_nc_sid=86f79a\n",
      "https://instagram.faep24-1.fna.fbcdn.net/v/t51.2885-15/sh0.08/e35/s640x640/131308369_202867951334432_7422507816021726443_n.jpg?_nc_ht=instagram.faep24-1.fna.fbcdn.net&_nc_cat=108&_nc_ohc=VuGD-duYRDoAX_ylpJo&tn=YtmVweepVitSoRXv&edm=APU89FABAAAA&ccb=7-4&oh=00_AT8jlVi42zXIUdn8yjOnnszLFEFp2KlJawCuXElNxR69Ww&oe=61E3B4C3&_nc_sid=86f79a\n",
      "https://instagram.faep24-1.fna.fbcdn.net/v/t51.2885-15/sh0.08/e35/c0.59.1440.1440a/s640x640/130754899_375067743793804_2770102999738082488_n.jpg?_nc_ht=instagram.faep24-1.fna.fbcdn.net&_nc_cat=104&_nc_ohc=nGIHPZLQg2MAX-PyFHm&edm=APU89FABAAAA&ccb=7-4&oh=00_AT8eQevnmDI0Y_iigAD02hvrtAUDYgHZqEsnKANPvL9OAA&oe=61E89865&_nc_sid=86f79a\n",
      "https://instagram.faep24-1.fna.fbcdn.net/v/t51.2885-15/sh0.08/e35/s640x640/130260518_737377410205012_2126943717444196339_n.jpg?_nc_ht=instagram.faep24-1.fna.fbcdn.net&_nc_cat=104&_nc_ohc=uMVXrPfyuHAAX-iJ_5J&edm=APU89FABAAAA&ccb=7-4&oh=00_AT9bzwzeytplAyKBl6lCuWuUTANQv1-CaMVzIabBq7-XXQ&oe=61E7B87B&_nc_sid=86f79a\n",
      "https://instagram.faep24-1.fna.fbcdn.net/v/t51.2885-15/sh0.08/e35/c0.116.1277.1277a/s640x640/128509479_215099483459458_5146704745541206570_n.jpg?_nc_ht=instagram.faep24-1.fna.fbcdn.net&_nc_cat=110&_nc_ohc=H4yonCjFBZ8AX_4SB_i&edm=APU89FABAAAA&ccb=7-4&oh=00_AT-QMLIYWbRnUbccn0Rf1jFM-ovYa6xFqKnfERPblpaz4w&oe=61E84167&_nc_sid=86f79a\n",
      "https://instagram.faep24-1.fna.fbcdn.net/v/t51.2885-15/sh0.08/e35/c0.48.1440.1440a/s640x640/127713423_213957323475144_5167960885504299403_n.jpg?_nc_ht=instagram.faep24-1.fna.fbcdn.net&_nc_cat=100&_nc_ohc=iBVzZh1RAw0AX-ysGtZ&edm=APU89FABAAAA&ccb=7-4&oh=00_AT-NczXLs-p6hooRkGjDjRaAbh5sOfIe_7k9yuvgReKSUw&oe=61E7A14E&_nc_sid=86f79a\n",
      "https://instagram.faep24-1.fna.fbcdn.net/v/t51.2885-15/sh0.08/e35/s640x640/127616420_3799666523411278_6533188176957564828_n.jpg?_nc_ht=instagram.faep24-1.fna.fbcdn.net&_nc_cat=110&_nc_ohc=K_XSIK5fWyQAX91hcnN&edm=APU89FABAAAA&ccb=7-4&oh=00_AT_HPU0qQjuAjC3NxR3TSSYmoeIIVTC6_XuuBtzCP5cQ4g&oe=61E9873C&_nc_sid=86f79a\n",
      "https://instagram.faep24-1.fna.fbcdn.net/v/t51.2885-15/sh0.08/e35/c0.0.1439.1439a/s640x640/127213773_258763112357642_4441073199709010792_n.jpg?_nc_ht=instagram.faep24-1.fna.fbcdn.net&_nc_cat=102&_nc_ohc=BLz0-2UEgKEAX8aedz6&edm=APU89FABAAAA&ccb=7-4&oh=00_AT8jrqBANy1rDWnrDgygXqEOPrz1EO7QXMTxLY03GEy_QQ&oe=61E96B37&_nc_sid=86f79a\n",
      "https://instagram.faep24-1.fna.fbcdn.net/v/t51.2885-15/sh0.08/e35/c0.420.1080.1080a/s640x640/126921054_375602940344281_618629303518294507_n.jpg?_nc_ht=instagram.faep24-1.fna.fbcdn.net&_nc_cat=101&_nc_ohc=4evAK61ZTX8AX-ks7qF&edm=APU89FABAAAA&ccb=7-4&oh=00_AT-U4Xvg-f_ULSrNgszrWGiNxB-1KIUN0rVUql3MCGTVtw&oe=61E42A9B&_nc_sid=86f79a\n",
      "https://instagram.faep24-1.fna.fbcdn.net/v/t51.2885-15/sh0.08/e35/s640x640/126624333_3656444847711763_468518438219457577_n.jpg?_nc_ht=instagram.faep24-1.fna.fbcdn.net&_nc_cat=107&_nc_ohc=oD0JDkCDmsAAX-Uf3J6&tn=YtmVweepVitSoRXv&edm=APU89FABAAAA&ccb=7-4&oh=00_AT_-9hVZYCYKRIKJEPnDHMmo29LhGtVl7RjpxslZUj1cjw&oe=61E7D204&_nc_sid=86f79a\n",
      "https://instagram.faep24-1.fna.fbcdn.net/v/t51.2885-15/sh0.08/e35/c0.64.1440.1440a/s640x640/125845687_699140227387178_5019452593714229837_n.jpg?_nc_ht=instagram.faep24-1.fna.fbcdn.net&_nc_cat=102&_nc_ohc=IhRoSvE6FhwAX8UpFrD&edm=APU89FABAAAA&ccb=7-4&oh=00_AT82jhUl8sJlaD_c7sDEQZih9ZklmvlEZsDNlELMLK6BXA&oe=61E981A1&_nc_sid=86f79a\n",
      "https://instagram.faep24-1.fna.fbcdn.net/v/t51.2885-15/sh0.08/e35/c0.180.1440.1440a/s640x640/125397028_1376789172673838_1585850439476949513_n.jpg?_nc_ht=instagram.faep24-1.fna.fbcdn.net&_nc_cat=102&_nc_ohc=9gvd8YIpODwAX8A5X4N&edm=APU89FABAAAA&ccb=7-4&oh=00_AT-2Wr0xkUW-nT1VDKRysk369VPN61wIrUo8lTiHUCgPOg&oe=61E8C3D8&_nc_sid=86f79a\n",
      "https://instagram.faep24-1.fna.fbcdn.net/v/t51.2885-15/sh0.08/e35/s640x640/124980752_760921634494785_2193817168179318558_n.jpg?_nc_ht=instagram.faep24-1.fna.fbcdn.net&_nc_cat=109&_nc_ohc=mBpSA_i4IvoAX_MqXoq&edm=APU89FABAAAA&ccb=7-4&oh=00_AT8vnZp3_FgGLz1HsGm4JwcX4Oip54orMC8F0nZLfb7HHQ&oe=61E8F763&_nc_sid=86f79a\n",
      "https://instagram.faep24-1.fna.fbcdn.net/v/t51.2885-15/e35/c60.0.482.482a/123446829_117146816696009_6984499656946204025_n.jpg?_nc_ht=instagram.faep24-1.fna.fbcdn.net&_nc_cat=105&_nc_ohc=3F2uPS4auYQAX8ctPcp&edm=APU89FABAAAA&ccb=7-4&oh=00_AT-dlZHlNqf6fNz41SgnZo4wHvQNI0P9GcXmHcHyK1pF5w&oe=61E854A8&_nc_sid=86f79a\n",
      "https://instagram.faep24-1.fna.fbcdn.net/v/t51.2885-15/sh0.08/e35/c0.84.1440.1440a/s640x640/123205673_987908658376582_1729845171691715969_n.jpg?_nc_ht=instagram.faep24-1.fna.fbcdn.net&_nc_cat=110&_nc_ohc=7LgBBqz9ypMAX85Ctv4&tn=YtmVweepVitSoRXv&edm=APU89FABAAAA&ccb=7-4&oh=00_AT9VaqfI2Ij3UzMGfl4WQVMCQAVZCqQr8nxFZyr_6PYoNQ&oe=61E7EE59&_nc_sid=86f79a\n",
      "https://instagram.faep24-1.fna.fbcdn.net/v/t51.2885-15/e35/c55.0.481.481a/122548941_268110521267792_7224378786597780807_n.jpg?_nc_ht=instagram.faep24-1.fna.fbcdn.net&_nc_cat=108&_nc_ohc=_bH9FzPSJtUAX9Ll4N9&edm=APU89FABAAAA&ccb=7-4&oh=00_AT_NEOD3JN44wAjQPkXFdplq1NcBMpjwy8h-Z3rV705iig&oe=61E91093&_nc_sid=86f79a\n",
      "https://instagram.faep24-1.fna.fbcdn.net/v/t51.2885-15/sh0.08/e35/s640x640/122741983_663269407725305_7699328568122525316_n.jpg?_nc_ht=instagram.faep24-1.fna.fbcdn.net&_nc_cat=105&_nc_ohc=_S-bjmsbYccAX-6knMH&edm=APU89FABAAAA&ccb=7-4&oh=00_AT8fgwL5Z4s0A5uOTOljrIo6pU7vZHUweBoijC47FsfNGg&oe=61E8B2F5&_nc_sid=86f79a\n",
      "https://instagram.faep24-1.fna.fbcdn.net/v/t51.2885-15/sh0.08/e35/c0.0.1440.1440a/s640x640/122221703_1032538680509279_7355515374736516579_n.jpg?_nc_ht=instagram.faep24-1.fna.fbcdn.net&_nc_cat=111&_nc_ohc=ZQd9vPe_5RkAX_5eg2i&edm=APU89FABAAAA&ccb=7-4&oh=00_AT9TxC8MEudDygeNcqaIKl5fTgekCxDbst-jYXxeiGah9w&oe=61E87D33&_nc_sid=86f79a\n",
      "https://instagram.faep24-1.fna.fbcdn.net/v/t51.2885-15/sh0.08/e35/s640x640/122021656_685792155693532_3264968671743409088_n.jpg?_nc_ht=instagram.faep24-1.fna.fbcdn.net&_nc_cat=104&_nc_ohc=YgE2dgDl9mcAX_pfZ9j&edm=APU89FABAAAA&ccb=7-4&oh=00_AT8lNPqENFXbk92pCyBbjQCcMPnCCQDnDsgeBgor4km2fw&oe=61E841FC&_nc_sid=86f79a\n",
      "https://instagram.faep24-1.fna.fbcdn.net/v/t51.2885-15/sh0.08/e35/s640x640/121779174_120454212975434_1146182391315259858_n.jpg?_nc_ht=instagram.faep24-1.fna.fbcdn.net&_nc_cat=102&_nc_ohc=vsefpIbO8tkAX8Bo_8y&tn=YtmVweepVitSoRXv&edm=APU89FABAAAA&ccb=7-4&oh=00_AT-ZjDrr75ZEgBq6mm-MF9dRaCx2hQpsmVy4-rj1Q1w9Jw&oe=61E937B4&_nc_sid=86f79a\n",
      "https://instagram.faep24-1.fna.fbcdn.net/v/t51.2885-15/sh0.08/e35/c0.180.1440.1440a/s640x640/121529474_395332261477662_8266736339789549433_n.jpg?_nc_ht=instagram.faep24-1.fna.fbcdn.net&_nc_cat=106&_nc_ohc=TFz3c1RqRegAX9QYB6N&edm=APU89FABAAAA&ccb=7-4&oh=00_AT_8-RD0yw_nqCcVkY6M0Xv_DYT7TXHq-3vVK-uH-BGsPg&oe=61E93965&_nc_sid=86f79a\n",
      "https://instagram.faep24-1.fna.fbcdn.net/v/t51.2885-15/sh0.08/e35/c0.160.1440.1440a/s640x640/121244056_2754073194908588_9051269927300756090_n.jpg?_nc_ht=instagram.faep24-1.fna.fbcdn.net&_nc_cat=108&_nc_ohc=k3WAiTTfLyUAX-l5n0n&edm=APU89FABAAAA&ccb=7-4&oh=00_AT-S-dfhBESX4tS-oDS7upVGSKgHbWgspFzSvO9arnU9zg&oe=61E7CAC2&_nc_sid=86f79a\n",
      "https://instagram.faep24-1.fna.fbcdn.net/v/t51.2885-15/sh0.08/e35/s640x640/120993561_353871999383960_4359332463528621473_n.jpg?_nc_ht=instagram.faep24-1.fna.fbcdn.net&_nc_cat=108&_nc_ohc=cTSz4Nd5QrYAX8KeC9b&edm=APU89FABAAAA&ccb=7-4&oh=00_AT-B2DnOJTSeSTRBsLwA2CtoLv7k84WTFAxat6Hwa4B0hQ&oe=61E78FEA&_nc_sid=86f79a\n",
      "https://instagram.faep24-1.fna.fbcdn.net/v/t51.2885-15/sh0.08/e35/c0.175.1406.1406a/s640x640/120845541_789049355191528_8602579580618614314_n.jpg?_nc_ht=instagram.faep24-1.fna.fbcdn.net&_nc_cat=104&_nc_ohc=uRTHQOdcn3wAX8n9-2f&edm=APU89FABAAAA&ccb=7-4&oh=00_AT-EblMbaO0IV7Vdntt3z6uQR9_yqmNH8_F89YrN2hgE3w&oe=61E86BCA&_nc_sid=86f79a\n",
      "https://instagram.faep24-1.fna.fbcdn.net/v/t51.2885-15/sh0.08/e35/s640x640/120601847_2657304394536299_1414204231194102563_n.jpg?_nc_ht=instagram.faep24-1.fna.fbcdn.net&_nc_cat=111&_nc_ohc=KFRd2M4ylaAAX92Ma0z&edm=APU89FABAAAA&ccb=7-4&oh=00_AT_rmXs2RHkE8zN66aWIj2aKq8tO3umx7-IXi9jesuGxrw&oe=61E85B1D&_nc_sid=86f79a\n",
      "https://instagram.faep24-1.fna.fbcdn.net/v/t51.2885-15/sh0.08/e35/c0.107.1440.1440a/s640x640/120496647_363811164665062_4293747945314599006_n.jpg?_nc_ht=instagram.faep24-1.fna.fbcdn.net&_nc_cat=110&_nc_ohc=JxBHJ08I5YsAX-4Xn7n&edm=APU89FABAAAA&ccb=7-4&oh=00_AT_ggXeXF714FIi-t25vi9vZJNPW1UzvCoDIS40TVh6H3Q&oe=61E8469F&_nc_sid=86f79a\n",
      "https://instagram.faep24-1.fna.fbcdn.net/v/t51.2885-15/sh0.08/e35/c191.0.1057.1057a/s640x640/120605738_2660542814197982_6022377686407746933_n.jpg?_nc_ht=instagram.faep24-1.fna.fbcdn.net&_nc_cat=102&_nc_ohc=JPrFfl1qx9YAX-t9jap&edm=APU89FABAAAA&ccb=7-4&oh=00_AT-TMd-JPsHSG_2Jco-Kd7ro1NVJItpl061-aQwR44aLcw&oe=61E83768&_nc_sid=86f79a\n",
      "https://instagram.faep24-1.fna.fbcdn.net/v/t51.2885-15/sh0.08/e35/c0.125.1006.1006a/s640x640/120421755_329920764972862_1109551011623531532_n.jpg?_nc_ht=instagram.faep24-1.fna.fbcdn.net&_nc_cat=110&_nc_ohc=9Lth_6HPYUcAX_qcE7I&edm=APU89FABAAAA&ccb=7-4&oh=00_AT8GvvCF5EpFXcB_wQ6csGru67zWQD0zafMvUFg9dhNN5A&oe=61E8CA09&_nc_sid=86f79a\n",
      "https://instagram.faep24-1.fna.fbcdn.net/v/t51.2885-15/sh0.08/e35/s640x640/120392743_2721498571460853_938577599974435132_n.jpg?_nc_ht=instagram.faep24-1.fna.fbcdn.net&_nc_cat=109&_nc_ohc=SWI6SUjNOkgAX_jNbku&edm=APU89FABAAAA&ccb=7-4&oh=00_AT8cnGmplOqc6DNSOSkIDYgTzuyUZrYRyRKgUPshLQ6QzQ&oe=61E93CE4&_nc_sid=86f79a\n",
      "https://instagram.faep24-1.fna.fbcdn.net/v/t51.2885-15/sh0.08/e35/c0.110.1313.1313a/s640x640/120115597_326642355266757_1349276320989789494_n.jpg?_nc_ht=instagram.faep24-1.fna.fbcdn.net&_nc_cat=109&_nc_ohc=Z1BiiZJ5c-gAX-_i36d&edm=APU89FABAAAA&ccb=7-4&oh=00_AT_bC4jfMNJXBHPLQhyJLmgb0sFW-YYBeabtmIi8VGZWSg&oe=61E934F3&_nc_sid=86f79a\n",
      "https://instagram.faep24-1.fna.fbcdn.net/v/t51.2885-15/sh0.08/e35/s640x640/120067779_2726912594197732_1878394006052119290_n.jpg?_nc_ht=instagram.faep24-1.fna.fbcdn.net&_nc_cat=104&_nc_ohc=x8zKNRJH0K8AX8a4ruA&edm=APU89FABAAAA&ccb=7-4&oh=00_AT9Z1bz5ponmQftMmwNunl45Fl8q7qZhpEe5l5ZJUcwiqA&oe=61E79428&_nc_sid=86f79a\n",
      "https://instagram.faep24-1.fna.fbcdn.net/v/t51.2885-15/sh0.08/e35/s640x640/119586805_1271091253239952_6004036382722668028_n.jpg?_nc_ht=instagram.faep24-1.fna.fbcdn.net&_nc_cat=104&_nc_ohc=g35xB1aPpnYAX_sZY7X&tn=YtmVweepVitSoRXv&edm=APU89FABAAAA&ccb=7-4&oh=00_AT9lUGGmwg58m8ZBV9wL6T1t0MrJbmls0dn0bzj6xFrkDg&oe=61E913AE&_nc_sid=86f79a\n",
      "https://instagram.faep24-1.fna.fbcdn.net/v/t51.2885-15/sh0.08/e35/s640x640/119435829_2794842010617240_619951051947398988_n.jpg?_nc_ht=instagram.faep24-1.fna.fbcdn.net&_nc_cat=100&_nc_ohc=QbKrVFQDCxwAX9rDigO&edm=APU89FABAAAA&ccb=7-4&oh=00_AT_xoWHqUPXQMrMg6h3UZMukV6gR-QHm-Mj5L3F6aQfwBw&oe=61E8AC78&_nc_sid=86f79a\n",
      "https://instagram.faep24-1.fna.fbcdn.net/v/t51.2885-15/sh0.08/e35/s640x640/119422330_790654581682847_7353476801667775057_n.jpg?_nc_ht=instagram.faep24-1.fna.fbcdn.net&_nc_cat=111&_nc_ohc=qc4BPMsLT6IAX_U6H2o&edm=APU89FABAAAA&ccb=7-4&oh=00_AT-vQ0UMkXjpdBvZaycVeVNDOIEusa--BUH5HJc7qX8uXw&oe=61E83906&_nc_sid=86f79a\n",
      "https://instagram.faep24-1.fna.fbcdn.net/v/t51.2885-15/sh0.08/e35/s640x640/118859163_196080535201840_7581093995917964934_n.jpg?_nc_ht=instagram.faep24-1.fna.fbcdn.net&_nc_cat=104&_nc_ohc=9S5jhLypAXMAX-ix1Ar&tn=YtmVweepVitSoRXv&edm=APU89FABAAAA&ccb=7-4&oh=00_AT_cOKXWinSx3GejchZWvM57J2pgpHIqfy5ky0wpgCAbRw&oe=61E94493&_nc_sid=86f79a\n",
      "https://instagram.faep24-1.fna.fbcdn.net/v/t51.2885-15/sh0.08/e35/c139.0.1162.1162a/s640x640/118863689_3825585347453766_7303215579428617734_n.jpg?_nc_ht=instagram.faep24-1.fna.fbcdn.net&_nc_cat=106&_nc_ohc=pZT0jmKiZgEAX_81O1e&edm=APU89FABAAAA&ccb=7-4&oh=00_AT-ke-63tU5m_aHMols17zyjdt2dcL_sQDil3W18K7UVbQ&oe=61E8AFE5&_nc_sid=86f79a\n",
      "https://instagram.faep24-1.fna.fbcdn.net/v/t51.2885-15/sh0.08/e35/s640x640/118728654_237909070855970_3550713555082378406_n.jpg?_nc_ht=instagram.faep24-1.fna.fbcdn.net&_nc_cat=102&_nc_ohc=as4tSEE2GicAX84nl6o&edm=APU89FABAAAA&ccb=7-4&oh=00_AT_t7bvFPnFcRPwh55Kndo2joGcmRPBDpBsPOv9IISXa5g&oe=61E9143C&_nc_sid=86f79a\n",
      "https://instagram.faep24-1.fna.fbcdn.net/v/t51.2885-15/sh0.08/e35/c0.84.1440.1440a/s640x640/118498284_639267343650146_3474268992355924928_n.jpg?_nc_ht=instagram.faep24-1.fna.fbcdn.net&_nc_cat=102&_nc_ohc=bDPF-d6q4MwAX_evY0o&tn=YtmVweepVitSoRXv&edm=APU89FABAAAA&ccb=7-4&oh=00_AT_EIIadXMd7h0-jEmY3zpI7nK3BSXTBti-jf6vRyf1WQw&oe=61E92B6E&_nc_sid=86f79a\n",
      "https://instagram.faep24-1.fna.fbcdn.net/v/t51.2885-15/sh0.08/e35/s640x640/118541049_193091905518636_7772093062256787022_n.jpg?_nc_ht=instagram.faep24-1.fna.fbcdn.net&_nc_cat=100&_nc_ohc=05-GWUHhAzwAX9PMKXr&edm=APU89FABAAAA&ccb=7-4&oh=00_AT-16DGbf2_imr95uqqn1J_aZBiKUFKAiTAKyFzo3Bm-Rw&oe=61E3A893&_nc_sid=86f79a\n",
      "https://instagram.faep24-1.fna.fbcdn.net/v/t51.2885-15/sh0.08/e35/s640x640/118346355_4357492807626078_2412856002681463576_n.jpg?_nc_ht=instagram.faep24-1.fna.fbcdn.net&_nc_cat=106&_nc_ohc=vm68HlbBJrkAX_9N4kG&edm=APU89FABAAAA&ccb=7-4&oh=00_AT8ViMDgUYPgl5OMgvb0imQVhvYxOPNT40NlajVhuAoAxg&oe=61E957C1&_nc_sid=86f79a\n",
      "https://instagram.faep24-1.fna.fbcdn.net/v/t51.2885-15/sh0.08/e35/c0.179.1440.1440a/s640x640/117678211_1189473911434659_9019746884256656386_n.jpg?_nc_ht=instagram.faep24-1.fna.fbcdn.net&_nc_cat=103&_nc_ohc=NFzbiIWvo_0AX_4Q4Yo&tn=YtmVweepVitSoRXv&edm=APU89FABAAAA&ccb=7-4&oh=00_AT_TV08B-94XOGHTaFf5mpsqKbJNZnOIZVBQ4hv9zdrliQ&oe=61E90FB1&_nc_sid=86f79a\n",
      "https://instagram.faep24-1.fna.fbcdn.net/v/t51.2885-15/sh0.08/e35/s640x640/117657218_356996851966579_7389319162270029801_n.jpg?_nc_ht=instagram.faep24-1.fna.fbcdn.net&_nc_cat=107&_nc_ohc=khEI6Z44FycAX-2pTrn&edm=APU89FABAAAA&ccb=7-4&oh=00_AT-rypaMhmeHCC-zjbBfH_35QSRRHAYW4_z0DFmQO4RTiw&oe=61E89543&_nc_sid=86f79a\n",
      "https://instagram.faep24-1.fna.fbcdn.net/v/t51.2885-15/sh0.08/e35/s640x640/117413973_226587328678968_4335555411626110460_n.jpg?_nc_ht=instagram.faep24-1.fna.fbcdn.net&_nc_cat=100&_nc_ohc=pLghiq33ag4AX_DVhJd&tn=YtmVweepVitSoRXv&edm=APU89FABAAAA&ccb=7-4&oh=00_AT__rLpY2ccPi0cXIscUP22BXDC3obJ2Ji_K45qAvFj7mg&oe=61E85B30&_nc_sid=86f79a\n",
      "https://instagram.faep24-1.fna.fbcdn.net/v/t51.2885-15/sh0.08/e35/c29.0.1355.1355a/s640x640/117298615_994289441005306_49363617794597883_n.jpg?_nc_ht=instagram.faep24-1.fna.fbcdn.net&_nc_cat=110&_nc_ohc=1gJuCP6IY-0AX80b481&tn=YtmVweepVitSoRXv&edm=APU89FABAAAA&ccb=7-4&oh=00_AT99ngrxEj-LdMBCvlcV1MH9jKRU3HuqqGvLZZYZUdVdkA&oe=61E8701E&_nc_sid=86f79a\n",
      "https://instagram.faep24-1.fna.fbcdn.net/v/t51.2885-15/sh0.08/e35/s640x640/116875952_356627915336053_901996834137067450_n.jpg?_nc_ht=instagram.faep24-1.fna.fbcdn.net&_nc_cat=101&_nc_ohc=rZ0g3Oaw1UMAX84LYH5&edm=APU89FABAAAA&ccb=7-4&oh=00_AT-zDX0A9uxGPvme2BNFThaqf-ZpbCXcSq0b62-CmmOYXQ&oe=61E7ABD5&_nc_sid=86f79a\n",
      "https://instagram.faep24-1.fna.fbcdn.net/v/t51.2885-15/sh0.08/e35/s640x640/117222098_340347733805043_2461882142220362726_n.jpg?_nc_ht=instagram.faep24-1.fna.fbcdn.net&_nc_cat=103&_nc_ohc=PdK95azk3ZsAX_p3bq8&edm=APU89FABAAAA&ccb=7-4&oh=00_AT9Ho480LG4dcQjOj3iWEOfpWTSUeWMjZCw4w9oGVD5vOQ&oe=61E7E00B&_nc_sid=86f79a\n",
      "https://instagram.faep24-1.fna.fbcdn.net/v/t51.2885-15/sh0.08/e35/c0.159.1277.1277a/s640x640/116728256_651926798756902_7909280949698509913_n.jpg?_nc_ht=instagram.faep24-1.fna.fbcdn.net&_nc_cat=110&_nc_ohc=2JjhC4mYcaEAX_39tOc&edm=APU89FABAAAA&ccb=7-4&oh=00_AT_AoAeeC37PC3uNs94Pi5RGboODlLpM9HA4zYuipPKJlw&oe=61E88606&_nc_sid=86f79a\n",
      "https://instagram.faep24-1.fna.fbcdn.net/v/t51.2885-15/sh0.08/e35/c0.137.1440.1440a/s640x640/116437051_342166813844741_4808832313072228503_n.jpg?_nc_ht=instagram.faep24-1.fna.fbcdn.net&_nc_cat=105&_nc_ohc=_nQ7SFPrP1EAX81eQ-l&edm=APU89FABAAAA&ccb=7-4&oh=00_AT9lEusvsBt07ROJQ0SMrzsJwcOHwDNNVDqYESTDGWHAXg&oe=61E8FE74&_nc_sid=86f79a\n",
      "https://instagram.faep24-1.fna.fbcdn.net/v/t51.2885-15/sh0.08/e35/s640x640/116230138_179577030230425_7817017688542096729_n.jpg?_nc_ht=instagram.faep24-1.fna.fbcdn.net&_nc_cat=101&_nc_ohc=zClUPVHSrscAX-bKx8K&edm=APU89FABAAAA&ccb=7-4&oh=00_AT8DcchSr0AaOkcBtClX_rCXka-duvTw1MBfRQERWdVvVA&oe=61E43E72&_nc_sid=86f79a\n",
      "https://instagram.faep24-1.fna.fbcdn.net/v/t51.2885-15/sh0.08/e35/s640x640/109074687_690202738377464_9203750399739205379_n.jpg?_nc_ht=instagram.faep24-1.fna.fbcdn.net&_nc_cat=108&_nc_ohc=5MvTEqbDIP0AX-skv-f&edm=APU89FABAAAA&ccb=7-4&oh=00_AT_IIw-vAl1hBWJ45gmMiHo59nQfuJqYrtdqWvnqYIXcwQ&oe=61E95F3F&_nc_sid=86f79a\n",
      "https://instagram.faep24-1.fna.fbcdn.net/v/t51.2885-15/sh0.08/e35/s640x640/115820924_289408382282852_624053326370805142_n.jpg?_nc_ht=instagram.faep24-1.fna.fbcdn.net&_nc_cat=108&_nc_ohc=8x0FhmF1QAoAX-pRXVW&edm=APU89FABAAAA&ccb=7-4&oh=00_AT9I4XeOyFZoWDFC8_jsbb5TJ_yQIhGkIWMV9z06DUySwg&oe=61E79ABF&_nc_sid=86f79a\n",
      "https://instagram.faep24-1.fna.fbcdn.net/v/t51.2885-15/sh0.08/e35/s640x640/111173008_150411220034465_6069965701629378768_n.jpg?_nc_ht=instagram.faep24-1.fna.fbcdn.net&_nc_cat=105&_nc_ohc=E6rD5fr7yTkAX8Qs0qr&edm=APU89FABAAAA&ccb=7-4&oh=00_AT817YEp1tPaN3p3tTOUzReLzlTN3FHmfRc-y5NuQMCrTQ&oe=61E975E4&_nc_sid=86f79a\n",
      "https://instagram.faep24-1.fna.fbcdn.net/v/t51.2885-15/sh0.08/e35/s640x640/110055171_129902805435073_7425857430573551639_n.jpg?_nc_ht=instagram.faep24-1.fna.fbcdn.net&_nc_cat=101&_nc_ohc=tOtIjM0w1J0AX_MX81S&edm=APU89FABAAAA&ccb=7-4&oh=00_AT8Xk9Zi3QmtiQ-AlYIR0PbVd7xHXucmLp3moIwDTULrBA&oe=61E8DB11&_nc_sid=86f79a\n",
      "https://instagram.faep24-1.fna.fbcdn.net/v/t51.2885-15/sh0.08/e35/c106.0.1227.1227a/s640x640/112331157_1145191542503664_2492786236628551045_n.jpg?_nc_ht=instagram.faep24-1.fna.fbcdn.net&_nc_cat=100&_nc_ohc=pOaxKl0Fbt0AX8MMq_f&edm=APU89FABAAAA&ccb=7-4&oh=00_AT_x84KtJiLKgVyCkduvz-K6OAkYfMXi4ZbZg8smgDBkQA&oe=61E792D5&_nc_sid=86f79a\n",
      "https://instagram.faep24-1.fna.fbcdn.net/v/t51.2885-15/sh0.08/e35/s640x640/111349903_111331090536157_8647786164158183765_n.jpg?_nc_ht=instagram.faep24-1.fna.fbcdn.net&_nc_cat=101&_nc_ohc=pbsAg9Lkj4kAX90TAcZ&edm=APU89FABAAAA&ccb=7-4&oh=00_AT9uA3-969SoRgSnI6XuIvEpN6x29YcAelWCVLtI-11jVw&oe=61E7B5D7&_nc_sid=86f79a\n",
      "https://instagram.faep24-1.fna.fbcdn.net/v/t51.2885-15/sh0.08/e35/s640x640/109744903_307202480404640_8767378959713560637_n.jpg?_nc_ht=instagram.faep24-1.fna.fbcdn.net&_nc_cat=108&_nc_ohc=Yy_yybciDgcAX9X-IEm&edm=APU89FABAAAA&ccb=7-4&oh=00_AT95p4taYp5jrCEVu4-7EeT3446EOtEdJC4gmKEUrFR9Cg&oe=61E3C615&_nc_sid=86f79a\n",
      "https://instagram.faep24-1.fna.fbcdn.net/v/t51.2885-15/sh0.08/e35/c0.87.1048.1048a/s640x640/108284214_284607006289329_3892708901146468724_n.jpg?_nc_ht=instagram.faep24-1.fna.fbcdn.net&_nc_cat=109&_nc_ohc=W6hGPY0MkFAAX-X0IS8&edm=APU89FABAAAA&ccb=7-4&oh=00_AT_MiOyfetC2vvMkHpLEF6zP2xNiVOdKd6jig-wM3GEcag&oe=61E8F77A&_nc_sid=86f79a\n",
      "https://instagram.faep24-1.fna.fbcdn.net/v/t51.2885-15/sh0.08/e35/c0.119.1440.1440a/s640x640/107886246_162019985443239_4905627640998166342_n.jpg?_nc_ht=instagram.faep24-1.fna.fbcdn.net&_nc_cat=103&_nc_ohc=sW5SQFlLAMwAX9vfh0P&edm=APU89FABAAAA&ccb=7-4&oh=00_AT8VJYAeNQv1Y6rnL7WwxMu-upP6SGB1ptfWo2Jr3k8x9Q&oe=61E94AAF&_nc_sid=86f79a\n",
      "https://instagram.faep24-1.fna.fbcdn.net/v/t51.2885-15/sh0.08/e35/s640x640/109107103_281161163093314_2949777724661884896_n.jpg?_nc_ht=instagram.faep24-1.fna.fbcdn.net&_nc_cat=110&_nc_ohc=tdbQkl6XFmYAX9hQGcl&edm=APU89FABAAAA&ccb=7-4&oh=00_AT8jexaekyRoz6ElJqn5vJt-Bc55LJfCPd8qJObVR7swJg&oe=61E82620&_nc_sid=86f79a\n",
      "https://instagram.faep24-1.fna.fbcdn.net/v/t51.2885-15/sh0.08/e35/c0.95.1440.1440a/s640x640/107191013_732017997650158_5250679447118104985_n.jpg?_nc_ht=instagram.faep24-1.fna.fbcdn.net&_nc_cat=110&_nc_ohc=EnVQalm2lLsAX9Dak-1&tn=YtmVweepVitSoRXv&edm=APU89FABAAAA&ccb=7-4&oh=00_AT85snIWtMY7IaWPqdX_lpOsRrxKxhryveExaupVKC3d9A&oe=61E7BE4A&_nc_sid=86f79a\n",
      "https://instagram.faep24-1.fna.fbcdn.net/v/t51.2885-15/sh0.08/e35/s640x640/82260518_576948679659384_8477177619398141647_n.jpg?_nc_ht=instagram.faep24-1.fna.fbcdn.net&_nc_cat=100&_nc_ohc=Rpz63AbmlRkAX_FySXO&tn=YtmVweepVitSoRXv&edm=APU89FABAAAA&ccb=7-4&oh=00_AT-sbsRXMd53o6fn17ZZg-EPHi3EV_rDpcpIbEsKBbZVSQ&oe=61E97D0A&_nc_sid=86f79a\n",
      "https://instagram.faep24-1.fna.fbcdn.net/v/t51.2885-15/sh0.08/e35/s640x640/107096139_564257310930340_6573650973582018703_n.jpg?_nc_ht=instagram.faep24-1.fna.fbcdn.net&_nc_cat=104&_nc_ohc=7jvqc-xa_NgAX-ejstB&tn=YtmVweepVitSoRXv&edm=APU89FABAAAA&ccb=7-4&oh=00_AT8e3AX8Tkm7YDa_oAQeTsFFQunUuHCbo7DRxo0fkEI1KQ&oe=61E8D8AA&_nc_sid=86f79a\n",
      "https://instagram.faep24-1.fna.fbcdn.net/v/t51.2885-15/sh0.08/e35/s640x640/106374362_3225189600871661_5114342178422317428_n.jpg?_nc_ht=instagram.faep24-1.fna.fbcdn.net&_nc_cat=105&_nc_ohc=58AdeqNmK-wAX-FcrfP&edm=APU89FABAAAA&ccb=7-4&oh=00_AT9A_SOeu_2DnGpar0AYBPT0f9CHQG9RyzSiEwygmqUVyA&oe=61E963B0&_nc_sid=86f79a\n",
      "https://instagram.faep24-1.fna.fbcdn.net/v/t51.2885-15/sh0.08/e35/c0.180.1440.1440a/s640x640/106161484_213056206502856_1446242026785835406_n.jpg?_nc_ht=instagram.faep24-1.fna.fbcdn.net&_nc_cat=100&_nc_ohc=1zvU9ie15tQAX8EE1DN&tn=YtmVweepVitSoRXv&edm=APU89FABAAAA&ccb=7-4&oh=00_AT__YAgP9UF4tF9Qg81ToqGty8iTbNBhNn9AWF9_a7dDVQ&oe=61E93FB8&_nc_sid=86f79a\n",
      "https://instagram.faep24-1.fna.fbcdn.net/v/t51.2885-15/sh0.08/e35/s640x640/106398850_675976396583926_8821408309284643345_n.jpg?_nc_ht=instagram.faep24-1.fna.fbcdn.net&_nc_cat=110&_nc_ohc=U_f2aIHhXTYAX9QY3eO&edm=APU89FABAAAA&ccb=7-4&oh=00_AT9S0an6n6As2JaFmiFB4mVZ5u1xp6PB6inH21owyAlmIg&oe=61E9415C&_nc_sid=86f79a\n",
      "https://instagram.faep24-1.fna.fbcdn.net/v/t51.2885-15/sh0.08/e35/s640x640/105517820_580177092671062_3549796225125622510_n.jpg?_nc_ht=instagram.faep24-1.fna.fbcdn.net&_nc_cat=110&_nc_ohc=sdkS63iYlXYAX9PjXuB&edm=APU89FABAAAA&ccb=7-4&oh=00_AT-lQhZAIOJMmLDMu4OflTT2bh2uRegTVKSsMXtdMzsQQg&oe=61E428D3&_nc_sid=86f79a\n",
      "https://instagram.faep24-1.fna.fbcdn.net/v/t51.2885-15/sh0.08/e35/s640x640/103889082_262377625040443_6343554094776901954_n.jpg?_nc_ht=instagram.faep24-1.fna.fbcdn.net&_nc_cat=107&_nc_ohc=4h5SGnmvupIAX8zfqpR&edm=APU89FABAAAA&ccb=7-4&oh=00_AT9SjeQ-e61gVd7ai8l6W_X1T4dCaF1nPGvxIGZR2fqDLg&oe=61E3D7AC&_nc_sid=86f79a\n",
      "https://instagram.faep24-1.fna.fbcdn.net/v/t51.2885-15/sh0.08/e35/c0.49.1440.1440a/s640x640/104389939_963034830824681_8208104146444745567_n.jpg?_nc_ht=instagram.faep24-1.fna.fbcdn.net&_nc_cat=105&_nc_ohc=kTnIV77B1oMAX_al8Yh&edm=APU89FABAAAA&ccb=7-4&oh=00_AT9drZd2FwqFs_vhv4s_etFmlWhRmnDHcbJX-5MQmtyfwg&oe=61E82B29&_nc_sid=86f79a\n",
      "https://instagram.faep24-1.fna.fbcdn.net/v/t51.2885-15/sh0.08/e35/c0.40.1074.1074a/s640x640/103537700_2598340490266925_5194798711775622765_n.jpg?_nc_ht=instagram.faep24-1.fna.fbcdn.net&_nc_cat=105&_nc_ohc=cKIyIyNBtR8AX_VwvLj&tn=YtmVweepVitSoRXv&edm=APU89FABAAAA&ccb=7-4&oh=00_AT-2mTNpc5qpjlZPzYS-5eFJoaHrtu0s6291rnkokpM6KA&oe=61E7E528&_nc_sid=86f79a\n",
      "https://instagram.faep24-1.fna.fbcdn.net/v/t51.2885-15/sh0.08/e35/c0.142.1440.1440a/s640x640/82205423_1151585241891252_6703087951350499371_n.jpg?_nc_ht=instagram.faep24-1.fna.fbcdn.net&_nc_cat=100&_nc_ohc=h0uLZ3dpbHUAX9ByCU5&edm=APU89FABAAAA&ccb=7-4&oh=00_AT-G5aG2w1zNRpcC8MHq5eybxk_jFyYLNhpsOUmMA2U-Fg&oe=61E92791&_nc_sid=86f79a\n",
      "https://instagram.faep24-1.fna.fbcdn.net/v/t51.2885-15/sh0.08/e35/c94.0.1252.1252a/s640x640/103944428_615301185744725_3518679338957807668_n.jpg?_nc_ht=instagram.faep24-1.fna.fbcdn.net&_nc_cat=105&_nc_ohc=F-P7J3JrxqMAX9QULhJ&edm=APU89FABAAAA&ccb=7-4&oh=00_AT_wLZ9XI80_3M3qKLBOUk8-xLiOvoRD8O5nXZPZCiqveQ&oe=61E7F3A2&_nc_sid=86f79a\n",
      "https://instagram.faep24-1.fna.fbcdn.net/v/t51.2885-15/sh0.08/e35/c0.85.1431.1431a/s640x640/101535962_117668043029321_4483743166174904577_n.jpg?_nc_ht=instagram.faep24-1.fna.fbcdn.net&_nc_cat=105&_nc_ohc=eRTNKK6Rki4AX-idmsg&edm=APU89FABAAAA&ccb=7-4&oh=00_AT-gnUIh6QIjYlYIkQMYyHUzCRwKAB3rDN0pZXVdvRWGpA&oe=61E7C06B&_nc_sid=86f79a\n",
      "https://instagram.faep24-1.fna.fbcdn.net/v/t51.2885-15/sh0.08/e35/s640x640/98486183_241226210437220_6788943538307386822_n.jpg?_nc_ht=instagram.faep24-1.fna.fbcdn.net&_nc_cat=108&_nc_ohc=HSS-rdhLFvQAX8hsnrE&edm=APU89FABAAAA&ccb=7-4&oh=00_AT9O2wNDc7hwKExCSueFj-zarVAqVT8FjXPo33FvkmTdJg&oe=61E85C21&_nc_sid=86f79a\n",
      "https://instagram.faep24-1.fna.fbcdn.net/v/t51.2885-15/sh0.08/e35/s640x640/96120923_529969881223737_63285128930109638_n.jpg?_nc_ht=instagram.faep24-1.fna.fbcdn.net&_nc_cat=109&_nc_ohc=7EvY153GVFIAX8iNBqe&edm=APU89FABAAAA&ccb=7-4&oh=00_AT9sH1EYoW4dv2PiEG17Z44kecY3EgbJ2wZg88mWeSzhJg&oe=61E86A23&_nc_sid=86f79a\n",
      "https://instagram.faep24-1.fna.fbcdn.net/v/t51.2885-15/sh0.08/e35/c0.13.1440.1440a/s640x640/95851179_745706649527101_2243853426683529470_n.jpg?_nc_ht=instagram.faep24-1.fna.fbcdn.net&_nc_cat=101&_nc_ohc=k24gIdVCaCsAX-UvM6o&tn=YtmVweepVitSoRXv&edm=APU89FABAAAA&ccb=7-4&oh=00_AT_xLOyMmhZqOXw4QlAl9UOoS1LtHYvJUQYARh0R2vjLgA&oe=61E931C6&_nc_sid=86f79a\n",
      "https://instagram.faep24-1.fna.fbcdn.net/v/t51.2885-15/e35/c75.0.339.339a/91569807_1597904280350657_3328635637362029766_n.jpg?_nc_ht=instagram.faep24-1.fna.fbcdn.net&_nc_cat=105&_nc_ohc=R1owoFpW0nQAX8gNgWo&edm=APU89FABAAAA&ccb=7-4&oh=00_AT80bfuqhVozsYxzjuVzZexNPXBu70VOt7cbaTfhDNG4Fg&oe=61E7AB5E&_nc_sid=86f79a\n",
      "https://instagram.faep24-1.fna.fbcdn.net/v/t51.2885-15/sh0.08/e35/s640x640/90089845_103908494514340_1266116304755470240_n.jpg?_nc_ht=instagram.faep24-1.fna.fbcdn.net&_nc_cat=104&_nc_ohc=HOXdqG_qHrkAX_fWyQy&edm=APU89FABAAAA&ccb=7-4&oh=00_AT9Yda5VyRGoBlIy521H1ViCBl4NU2ynXyXLebSB2wSznQ&oe=61E84D70&_nc_sid=86f79a\n",
      "https://instagram.faep24-1.fna.fbcdn.net/v/t51.2885-15/sh0.08/e35/c0.143.1440.1440a/s640x640/89836973_510841862908980_5136218521517625095_n.jpg?_nc_ht=instagram.faep24-1.fna.fbcdn.net&_nc_cat=100&_nc_ohc=ZsVqUkXREKsAX8IjGZy&edm=APU89FABAAAA&ccb=7-4&oh=00_AT-A0NE5liU9mJeQLX1ImExphoSBjl_jJEu-wj1Edws88w&oe=61E7DA76&_nc_sid=86f79a\n",
      "https://instagram.faep24-1.fna.fbcdn.net/v/t51.2885-15/sh0.08/e35/c0.17.1440.1440a/s640x640/89691308_105974977571209_5593229535501520869_n.jpg?_nc_ht=instagram.faep24-1.fna.fbcdn.net&_nc_cat=101&_nc_ohc=vT18r1m7SjkAX94xfeY&tn=YtmVweepVitSoRXv&edm=APU89FABAAAA&ccb=7-4&oh=00_AT9dF2R-3L7U8W1k4U7d1FIsiHRwgFuYyMnjo9eYvTD0YA&oe=61E7929C&_nc_sid=86f79a\n",
      "https://instagram.faep24-1.fna.fbcdn.net/v/t51.2885-15/sh0.08/e35/s640x640/89300100_2940538632672679_4087788328375369848_n.jpg?_nc_ht=instagram.faep24-1.fna.fbcdn.net&_nc_cat=107&_nc_ohc=zQCvh4UeaE0AX93ntr0&tn=YtmVweepVitSoRXv&edm=APU89FABAAAA&ccb=7-4&oh=00_AT9Numv7wTcfAsFIi0rfegmL5b69hn5UBcpILLSY4bt0YQ&oe=61E7A4E4&_nc_sid=86f79a\n",
      "https://instagram.faep24-1.fna.fbcdn.net/v/t51.2885-15/e35/c124.0.521.521a/87499614_134029377943325_5474369702036421225_n.jpg?_nc_ht=instagram.faep24-1.fna.fbcdn.net&_nc_cat=105&_nc_ohc=U4EWfGCy20sAX80AbdV&edm=APU89FABAAAA&ccb=7-4&oh=00_AT9w8VPh7UT6Z0T3lEFc2AnUu2KAmMvYagGBKr56TfdJUA&oe=61E90C4C&_nc_sid=86f79a\n",
      "https://instagram.faep24-1.fna.fbcdn.net/v/t51.2885-15/sh0.08/e35/s640x640/88137735_511158462936740_2139315289023717716_n.jpg?_nc_ht=instagram.faep24-1.fna.fbcdn.net&_nc_cat=108&_nc_ohc=Zv8sv3hwtj0AX9phjXa&edm=APU89FABAAAA&ccb=7-4&oh=00_AT9NQBwXD3tjDdpHADUPNnf0SH45phJL1w4KS_cdCT3xsA&oe=61E8F3F5&_nc_sid=86f79a\n",
      "https://instagram.faep24-1.fna.fbcdn.net/v/t51.2885-15/sh0.08/e35/s640x640/84032473_3151295121593457_5095828773487841416_n.jpg?_nc_ht=instagram.faep24-1.fna.fbcdn.net&_nc_cat=109&_nc_ohc=cCV1hanqKYIAX9vXm3D&edm=APU89FABAAAA&ccb=7-4&oh=00_AT_K2uEuULR_Gf-HPamhxVNZAaQ86ZImOaCJ2C_ohs2ybg&oe=61E81B21&_nc_sid=86f79a\n",
      "https://instagram.faep24-1.fna.fbcdn.net/v/t51.2885-15/sh0.08/e35/s640x640/84327797_106091770961786_750031807595076197_n.jpg?_nc_ht=instagram.faep24-1.fna.fbcdn.net&_nc_cat=102&_nc_ohc=8CcBL2QIho8AX_BWRTl&edm=APU89FABAAAA&ccb=7-4&oh=00_AT-uDz9LqwuFckJtG0qqIs2ltJP79hkvbLdFluvdqkph8w&oe=61E813B7&_nc_sid=86f79a\n",
      "https://instagram.faep24-1.fna.fbcdn.net/v/t51.2885-15/sh0.08/e35/c0.180.1440.1440a/s640x640/83897707_324700838443785_6377421121289793776_n.jpg?_nc_ht=instagram.faep24-1.fna.fbcdn.net&_nc_cat=109&_nc_ohc=e4DDFVuMP6wAX-aKE1v&edm=APU89FABAAAA&ccb=7-4&oh=00_AT9lepcI4qJROmUkQ9SoFWzpL9i-m-bDu7vyXHk8PboPZg&oe=61E848E6&_nc_sid=86f79a\n",
      "https://instagram.faep24-1.fna.fbcdn.net/v/t51.2885-15/sh0.08/e35/s640x640/82096246_113776703484558_46374106244178061_n.jpg?_nc_ht=instagram.faep24-1.fna.fbcdn.net&_nc_cat=106&_nc_ohc=BISIJPoxo6UAX-PQ8or&edm=APU89FABAAAA&ccb=7-4&oh=00_AT_ybIDs_XsBx4cXY7fYpiL7EG0ww_UqaoKD5gZBHnouXw&oe=61E8D863&_nc_sid=86f79a\n",
      "https://instagram.faep24-1.fna.fbcdn.net/v/t51.2885-15/sh0.08/e35/s640x640/76883691_767628150382504_2126137426410220082_n.jpg?_nc_ht=instagram.faep24-1.fna.fbcdn.net&_nc_cat=104&_nc_ohc=dJ0LkDriEXsAX_SRgws&edm=APU89FABAAAA&ccb=7-4&oh=00_AT9a4UbCAc_WV_45oW_quEKz44w_ofKf_EAM7OXQ-rKHyQ&oe=61E90961&_nc_sid=86f79a\n",
      "https://instagram.faep24-1.fna.fbcdn.net/v/t51.2885-15/sh0.08/e35/s640x640/79372055_2600401570035986_3169974671335127056_n.jpg?_nc_ht=instagram.faep24-1.fna.fbcdn.net&_nc_cat=102&_nc_ohc=lEWMR_U5M8cAX99dHdP&edm=APU89FABAAAA&ccb=7-4&oh=00_AT9ZAozsoEEHAHNdC9opUkPZwKZfjrIUqoUbFOeQeb4Ewg&oe=61E90261&_nc_sid=86f79a\n",
      "https://instagram.faep24-1.fna.fbcdn.net/v/t51.2885-15/sh0.08/e35/s640x640/75053145_266807794295452_5119497779470599262_n.jpg?_nc_ht=instagram.faep24-1.fna.fbcdn.net&_nc_cat=104&_nc_ohc=gUi-IwIskq0AX9d0kb1&edm=APU89FABAAAA&ccb=7-4&oh=00_AT-d2eTBiY856cp9faKniNqM2i8WNjJiQGDaFaZzlfq9Mg&oe=61E94A78&_nc_sid=86f79a\n",
      "https://instagram.faep24-1.fna.fbcdn.net/v/t51.2885-15/sh0.08/e35/s640x640/75518385_562463687864446_646753632925893629_n.jpg?_nc_ht=instagram.faep24-1.fna.fbcdn.net&_nc_cat=110&_nc_ohc=LSj1EQ1EsdgAX_ke_Tp&tn=YtmVweepVitSoRXv&edm=APU89FABAAAA&ccb=7-4&oh=00_AT_7DGQpT3p_U_eeVoh_kkfUGOSiUvhzLyXk8mlRmGrTnA&oe=61E87A8D&_nc_sid=86f79a\n",
      "https://instagram.faep24-1.fna.fbcdn.net/v/t51.2885-15/sh0.08/e35/c0.105.1440.1440a/s640x640/73261606_2830551503621594_4026055432979110459_n.jpg?_nc_ht=instagram.faep24-1.fna.fbcdn.net&_nc_cat=102&_nc_ohc=AkXgO0wGezkAX8GBmvJ&edm=APU89FABAAAA&ccb=7-4&oh=00_AT-gTrbMDCg5wyyqY5UiUGqIT8h5OVWrdnSpR9mjRg7GwQ&oe=61E79E86&_nc_sid=86f79a\n",
      "https://instagram.faep24-1.fna.fbcdn.net/v/t51.2885-15/sh0.08/e35/c0.175.1406.1406a/s640x640/74992101_188736678954784_4291653394668029590_n.jpg?_nc_ht=instagram.faep24-1.fna.fbcdn.net&_nc_cat=104&_nc_ohc=rFYOJXtbRJkAX8XRFxi&edm=APU89FABAAAA&ccb=7-4&oh=00_AT_dD1zofgTm4P-dzd7Bjv2sJICfXTs1rCssuBhW8l-ULQ&oe=61E8082C&_nc_sid=86f79a\n",
      "https://instagram.faep24-1.fna.fbcdn.net/v/t51.2885-15/sh0.08/e35/c180.0.1080.1080a/s640x640/73203819_505514260030006_7234144937365623035_n.jpg?_nc_ht=instagram.faep24-1.fna.fbcdn.net&_nc_cat=110&_nc_ohc=oJ8hGeNJ-DYAX9ATdbQ&edm=APU89FABAAAA&ccb=7-4&oh=00_AT_SCbgq1C0nXY8UeXdyuSpoT-IRJzYM4T0Y0yqSZpgqFA&oe=61E86B87&_nc_sid=86f79a\n",
      "https://instagram.faep24-1.fna.fbcdn.net/v/t51.2885-15/sh0.08/e35/s640x640/72485740_2541802515874527_472884872467614845_n.jpg?_nc_ht=instagram.faep24-1.fna.fbcdn.net&_nc_cat=103&_nc_ohc=47U7BmhP4wEAX_-NSix&edm=APU89FABAAAA&ccb=7-4&oh=00_AT8pGiMmFftUddgWd9UUV6XYXo9mk7eaY1dQ2tp-32RF9Q&oe=61E89833&_nc_sid=86f79a\n",
      "https://instagram.faep24-1.fna.fbcdn.net/v/t51.2885-15/sh0.08/e35/s640x640/69596961_193802804973966_6575910020938475264_n.jpg?_nc_ht=instagram.faep24-1.fna.fbcdn.net&_nc_cat=106&_nc_ohc=nimfIJcJtbcAX-d2weW&edm=APU89FABAAAA&ccb=7-4&oh=00_AT_HBV51hWFKU9QyfmTbqnCf7TlBpYnrRIoePyEehqzOgw&oe=61E87FE5&_nc_sid=86f79a\n",
      "https://instagram.faep24-1.fna.fbcdn.net/v/t51.2885-15/sh0.08/e35/s640x640/70845246_426644587837385_5318845076357253506_n.jpg?_nc_ht=instagram.faep24-1.fna.fbcdn.net&_nc_cat=105&_nc_ohc=X2WM6-nTmB4AX8IkklU&edm=APU89FABAAAA&ccb=7-4&oh=00_AT8CVxWCHc0m-pRR--xb0sHp3-mizuLq6Tip3E68Wa-WsA&oe=61E3C860&_nc_sid=86f79a\n",
      "https://instagram.faep24-1.fna.fbcdn.net/v/t51.2885-15/sh0.08/e35/s640x640/71233632_184830629223113_5160891400793968913_n.jpg?_nc_ht=instagram.faep24-1.fna.fbcdn.net&_nc_cat=105&_nc_ohc=J9oscnot0QYAX_qT0JM&edm=APU89FABAAAA&ccb=7-4&oh=00_AT9dTkWIlnPYKBcvtcRlzp-TghEq_XELEoDkTTPZB84wAw&oe=61E97E57&_nc_sid=86f79a\n",
      "https://instagram.faep24-1.fna.fbcdn.net/v/t51.2885-15/sh0.08/e35/s640x640/70350329_840429723026082_7434659574415382608_n.jpg?_nc_ht=instagram.faep24-1.fna.fbcdn.net&_nc_cat=106&_nc_ohc=xNzUpMaumUQAX88TLtI&edm=APU89FABAAAA&ccb=7-4&oh=00_AT8mNyVnqN3rKw_3icM-0_jkmHeOw9gwsoRXd0fT_-rv0g&oe=61E82B6C&_nc_sid=86f79a\n",
      "https://instagram.faep24-1.fna.fbcdn.net/v/t51.2885-15/sh0.08/e35/s640x640/71525763_698411530626157_8683663098833309684_n.jpg?_nc_ht=instagram.faep24-1.fna.fbcdn.net&_nc_cat=101&_nc_ohc=RcnGtG382F0AX-zmlOH&edm=APU89FABAAAA&ccb=7-4&oh=00_AT8vLgFTpDPkDPYfHLR9Q_yXTYBLWkPdjAM-pKIRRA7kZw&oe=61E891AF&_nc_sid=86f79a\n",
      "https://instagram.faep24-1.fna.fbcdn.net/v/t51.2885-15/sh0.08/e35/c148.0.959.959a/s640x640/72074978_369045797375556_1797397732993916079_n.jpg?_nc_ht=instagram.faep24-1.fna.fbcdn.net&_nc_cat=100&_nc_ohc=f6MNHV-ua5gAX8_EQCq&edm=APU89FABAAAA&ccb=7-4&oh=00_AT-nN5RSLjkYRW280nEynGyHbc10FrWY-ST3Cjf_o-OEXQ&oe=61E803C4&_nc_sid=86f79a\n",
      "https://instagram.faep24-1.fna.fbcdn.net/v/t51.2885-15/sh0.08/e35/c65.0.1003.1003a/s640x640/67978534_519330805487764_896719408448630656_n.jpg?_nc_ht=instagram.faep24-1.fna.fbcdn.net&_nc_cat=104&_nc_ohc=B9PgJKn9z7MAX8kkIhb&tn=YtmVweepVitSoRXv&edm=APU89FABAAAA&ccb=7-4&oh=00_AT-2bvvzA36wDYLOaSgZI7VxdiOQ7NB1G7ngD8vkn3MeVA&oe=61E8F63D&_nc_sid=86f79a\n",
      "https://instagram.faep24-1.fna.fbcdn.net/v/t51.2885-15/sh0.08/e35/s640x640/67841185_2465282577035773_7031237427695820850_n.jpg?_nc_ht=instagram.faep24-1.fna.fbcdn.net&_nc_cat=101&_nc_ohc=mFmhzkSCwXIAX8KaFHA&edm=APU89FABAAAA&ccb=7-4&oh=00_AT-MK9HsqjR_s3Pu3jz4d1b-TZ6OIYC7A3Tqb_Q-BkWJvA&oe=61E7FC71&_nc_sid=86f79a\n",
      "https://instagram.faep24-1.fna.fbcdn.net/v/t51.2885-15/sh0.08/e35/c0.180.1440.1440a/s640x640/67979128_121307462563912_7153977868712725012_n.jpg?_nc_ht=instagram.faep24-1.fna.fbcdn.net&_nc_cat=104&_nc_ohc=iQGm5usQUA0AX9hPLJF&tn=YtmVweepVitSoRXv&edm=APU89FABAAAA&ccb=7-4&oh=00_AT-V2ABxDYpUTNIK95aFizX62fIF7AeU7HDFAqt3sTcAHw&oe=61E79DAC&_nc_sid=86f79a\n",
      "https://instagram.faep24-1.fna.fbcdn.net/v/t51.2885-15/sh0.08/e35/s640x640/67438312_480986775787946_6553253851213053532_n.jpg?_nc_ht=instagram.faep24-1.fna.fbcdn.net&_nc_cat=102&_nc_ohc=d94mSHhvkjEAX-aWGHs&tn=YtmVweepVitSoRXv&edm=APU89FABAAAA&ccb=7-4&oh=00_AT8Rqdz1uFNicwD5FnrEfd64uCX9qxNWKKtkBFPYwaop-w&oe=61E94558&_nc_sid=86f79a\n",
      "https://instagram.faep24-1.fna.fbcdn.net/v/t51.2885-15/sh0.08/e35/s640x640/67760216_131051284824900_8190423766634020302_n.jpg?_nc_ht=instagram.faep24-1.fna.fbcdn.net&_nc_cat=100&_nc_ohc=cRLDLjghENcAX9fdyy8&edm=APU89FABAAAA&ccb=7-4&oh=00_AT_nLVpvYxjJFYX66VoHMgxoKV4uAoS6lgE6CnMiBXesdg&oe=61E8C921&_nc_sid=86f79a\n",
      "https://instagram.faep24-1.fna.fbcdn.net/v/t51.2885-15/sh0.08/e35/c0.150.1200.1200a/s640x640/66361767_162677551529739_8084710968862641485_n.jpg?_nc_ht=instagram.faep24-1.fna.fbcdn.net&_nc_cat=103&_nc_ohc=U32EkWxKUycAX9yFE6T&edm=APU89FABAAAA&ccb=7-4&oh=00_AT_09QNOuZTR2YyWv9PZKw2gzwlE8nQAXD266YAOIierEQ&oe=61E94835&_nc_sid=86f79a\n",
      "https://instagram.faep24-1.fna.fbcdn.net/v/t51.2885-15/sh0.08/e35/c0.45.655.655a/s640x640/66332383_150541509373335_5441568453459330147_n.jpg?_nc_ht=instagram.faep24-1.fna.fbcdn.net&_nc_cat=103&_nc_ohc=Y0QETNiSmVkAX_vwpn0&tn=YtmVweepVitSoRXv&edm=APU89FABAAAA&ccb=7-4&oh=00_AT9rdoxqGeEN4SBkyKibFZ3pPvgko8XY9jLZBdFCb2Szbw&oe=61E86664&_nc_sid=86f79a\n",
      "https://instagram.faep24-1.fna.fbcdn.net/v/t51.2885-15/sh0.08/e35/s640x640/66776412_2941886139214692_7806474759253855102_n.jpg?_nc_ht=instagram.faep24-1.fna.fbcdn.net&_nc_cat=100&_nc_ohc=-3JwgcWSBBkAX-wZDOf&edm=APU89FABAAAA&ccb=7-4&oh=00_AT_o4a1ZFZs8XoXTYwd9TubP2pgw9vyGlBKnZ5aSSMJm6A&oe=61E93CE5&_nc_sid=86f79a\n",
      "https://instagram.faep24-1.fna.fbcdn.net/v/t51.2885-15/sh0.08/e35/c0.76.1440.1440a/s640x640/66469341_418799435399017_6269669058706874676_n.jpg?_nc_ht=instagram.faep24-1.fna.fbcdn.net&_nc_cat=101&_nc_ohc=c8uCFAUlUNkAX_WUeRc&edm=APU89FABAAAA&ccb=7-4&oh=00_AT8GnsYoSXCmc12-pLzBa-MtbRINfDzfqmIxPrLuD0he-A&oe=61E91A4C&_nc_sid=86f79a\n",
      "https://instagram.faep24-1.fna.fbcdn.net/v/t51.2885-15/sh0.08/e35/c0.180.1440.1440a/s640x640/66482662_115018589576301_7041081651148934849_n.jpg?_nc_ht=instagram.faep24-1.fna.fbcdn.net&_nc_cat=109&_nc_ohc=H_cKW0MKoUAAX9lvAag&edm=APU89FABAAAA&ccb=7-4&oh=00_AT-_PjxqK8ehFYwkMLR-RbBUDPKbrwfymeVOUS_rTQ2AFQ&oe=61E896F3&_nc_sid=86f79a\n",
      "https://instagram.faep24-1.fna.fbcdn.net/v/t51.2885-15/sh0.08/e35/s640x640/65879771_831485670564235_3986326897854580222_n.jpg?_nc_ht=instagram.faep24-1.fna.fbcdn.net&_nc_cat=107&_nc_ohc=Uwz5DYtUqY4AX9_41R2&edm=APU89FABAAAA&ccb=7-4&oh=00_AT956voXhA4VEG1PBS4aB9F6yRNZTWPnX3l7pf8JerUmAw&oe=61E8F16C&_nc_sid=86f79a\n",
      "https://instagram.faep24-1.fna.fbcdn.net/v/t51.2885-15/e35/c107.0.621.621a/66311397_479283366160132_4740196450481868324_n.jpg?_nc_ht=instagram.faep24-1.fna.fbcdn.net&_nc_cat=104&_nc_ohc=ZaLSTnqlB1gAX_J7PPT&edm=APU89FABAAAA&ccb=7-4&oh=00_AT9xnoizWvrDFckh8wOOa7CujUjBbpWNNlbOErXJN1jiQg&oe=61E875F4&_nc_sid=86f79a\n",
      "https://instagram.faep24-1.fna.fbcdn.net/v/t51.2885-15/sh0.08/e35/s640x640/64447522_153672675685736_3926107491998139556_n.jpg?_nc_ht=instagram.faep24-1.fna.fbcdn.net&_nc_cat=108&_nc_ohc=0-zt5InWHMkAX9GymZT&edm=APU89FABAAAA&ccb=7-4&oh=00_AT-u9CGmdZX1T7hF4JJHG_M4XqoV7za1LhiacVWn3J5dyQ&oe=61E96FC0&_nc_sid=86f79a\n",
      "https://instagram.faep24-1.fna.fbcdn.net/v/t51.2885-15/e35/64590605_317595912519835_89854122791393307_n.jpg?_nc_ht=instagram.faep24-1.fna.fbcdn.net&_nc_cat=107&_nc_ohc=zeyONBW1c6MAX8topQ0&tn=YtmVweepVitSoRXv&edm=APU89FABAAAA&ccb=7-4&oh=00_AT_FXbSlzuMOs2Qu-IODwcY3Pc-Ia3VYY8LrZYfIrtA9AQ&oe=61E84A96&_nc_sid=86f79a\n",
      "https://instagram.faep24-1.fna.fbcdn.net/v/t51.2885-15/sh0.08/e35/c0.98.880.880a/s640x640/65503862_1158469817690425_3218905433012256134_n.jpg?_nc_ht=instagram.faep24-1.fna.fbcdn.net&_nc_cat=101&_nc_ohc=vwTqWm8v-FwAX90JYw3&edm=APU89FABAAAA&ccb=7-4&oh=00_AT9xAD2ClMZM8kBSeVHeCR-jk_O-_-xXtQyMujbfMjKWPQ&oe=61E7F80B&_nc_sid=86f79a\n",
      "https://instagram.faep24-1.fna.fbcdn.net/v/t51.2885-15/sh0.08/e35/s640x640/61568123_901949116823149_103662237235181815_n.jpg?_nc_ht=instagram.faep24-1.fna.fbcdn.net&_nc_cat=101&_nc_ohc=Xq9u2FKzdjEAX99VgNZ&edm=APU89FABAAAA&ccb=7-4&oh=00_AT_G65yxow-fjsa4WR4ovSFmf7BCJ0wtHLJTbsCtpKWMOA&oe=61E84ABD&_nc_sid=86f79a\n",
      "https://instagram.faep24-1.fna.fbcdn.net/v/t51.2885-15/e35/61574206_591339604691319_4645744620972116949_n.jpg?_nc_ht=instagram.faep24-1.fna.fbcdn.net&_nc_cat=103&_nc_ohc=UrIKK668p2cAX_nVm3R&tn=YtmVweepVitSoRXv&edm=APU89FABAAAA&ccb=7-4&oh=00_AT9QvOFbvEyV6SRPTYvy_LlLpOuLNqpi53qsDlWUKR4jMg&oe=61E89CB7&_nc_sid=86f79a\n",
      "https://instagram.faep24-1.fna.fbcdn.net/v/t51.2885-15/sh0.08/e35/c0.160.1280.1280a/s640x640/62134514_830249240688786_3650364713160407086_n.jpg?_nc_ht=instagram.faep24-1.fna.fbcdn.net&_nc_cat=106&_nc_ohc=AodjVwXUBacAX8cB-BW&edm=APU89FABAAAA&ccb=7-4&oh=00_AT-iTY5ZWh2GkZDHGOkFhSQy_vrGfDDn16RV0RIyYvI5VA&oe=61E89A05&_nc_sid=86f79a\n",
      "https://instagram.faep24-1.fna.fbcdn.net/v/t51.2885-15/sh0.08/e35/c0.161.1290.1290a/s640x640/60984499_142359816827339_6630998676840731793_n.jpg?_nc_ht=instagram.faep24-1.fna.fbcdn.net&_nc_cat=111&_nc_ohc=pp4G4sDPkOIAX8z4Ng1&edm=APU89FABAAAA&ccb=7-4&oh=00_AT9BcYkEOXf4uNkaCLyunQ6iYYetgWYtgfVYRipcjdH3Pw&oe=61E8056C&_nc_sid=86f79a\n",
      "https://instagram.faep24-1.fna.fbcdn.net/v/t51.2885-15/sh0.08/e35/c0.160.1280.1280a/s640x640/59897327_737830059947262_5496568776428236992_n.jpg?_nc_ht=instagram.faep24-1.fna.fbcdn.net&_nc_cat=106&_nc_ohc=_fbUn_a-qO0AX-wYpXc&edm=APU89FABAAAA&ccb=7-4&oh=00_AT98HMtkt3BXpdN9WvQUP4FnZPNpQZNhsDsip8X3wbVHuw&oe=61E7A06D&_nc_sid=86f79a\n",
      "https://instagram.faep24-1.fna.fbcdn.net/v/t51.2885-15/sh0.08/e35/s640x640/58713339_288870692061063_3295213617251663605_n.jpg?_nc_ht=instagram.faep24-1.fna.fbcdn.net&_nc_cat=103&_nc_ohc=LNax-nKFcgcAX-96M0o&edm=APU89FABAAAA&ccb=7-4&oh=00_AT8UPO95JaKYeV768aGrLU1vbp8599NRf651nowbLshTow&oe=61E936F1&_nc_sid=86f79a\n",
      "https://instagram.faep24-1.fna.fbcdn.net/v/t51.2885-15/sh0.08/e35/c0.90.1080.1080a/s640x640/56398535_575552686288129_1439543681066412374_n.jpg?_nc_ht=instagram.faep24-1.fna.fbcdn.net&_nc_cat=101&_nc_ohc=j-XzqxIAIzcAX8OtWSY&edm=APU89FABAAAA&ccb=7-4&oh=00_AT-lr4hKp_WNvWbahuufaS7NOT6JRSUuWMN5REqKx70gug&oe=61E92331&_nc_sid=86f79a\n",
      "https://instagram.faep24-1.fna.fbcdn.net/v/t51.2885-15/e35/56531419_162305738100140_6767777011208942294_n.jpg?_nc_ht=instagram.faep24-1.fna.fbcdn.net&_nc_cat=108&_nc_ohc=6uFFh5B1WWIAX9SQiC5&edm=APU89FABAAAA&ccb=7-4&oh=00_AT-8PxUt_bcprxN0_Ik_RrasO59NjiEwn_zsw1xoNdFDsw&oe=61E8AE31&_nc_sid=86f79a\n",
      "https://instagram.faep24-1.fna.fbcdn.net/v/t51.2885-15/sh0.08/e35/s640x640/54511426_836708939995486_8982270771724801906_n.jpg?_nc_ht=instagram.faep24-1.fna.fbcdn.net&_nc_cat=110&_nc_ohc=8C7jceuEqwMAX9ek8LE&edm=APU89FABAAAA&ccb=7-4&oh=00_AT87KDNSr2hlvnx9ps_rpaWIS5CGgieIUEsYLCyhmqJddQ&oe=61E88F12&_nc_sid=86f79a\n",
      "https://instagram.faep24-1.fna.fbcdn.net/v/t51.2885-15/e35/c79.0.201.201a/53509737_125422701896258_8012206812812834606_n.jpg?_nc_ht=instagram.faep24-1.fna.fbcdn.net&_nc_cat=102&_nc_ohc=M_d6jB5orTAAX-IQv3N&edm=APU89FABAAAA&ccb=7-4&oh=00_AT9qoGZ9GdBPglZ4LAyYfFCs_knw_rJHwpBg14oFCbqZJw&oe=61E88242&_nc_sid=86f79a\n",
      "https://instagram.faep24-1.fna.fbcdn.net/v/t51.2885-15/sh0.08/e35/s640x640/53305641_125874575166342_6550424311880212581_n.jpg?_nc_ht=instagram.faep24-1.fna.fbcdn.net&_nc_cat=106&_nc_ohc=Won1p3ST5GYAX8qNEro&tn=YtmVweepVitSoRXv&edm=APU89FABAAAA&ccb=7-4&oh=00_AT885mHWLws9hX2mR8sbwdPgY8w0MWD27Sgz02fUlZM_8w&oe=61E96D37&_nc_sid=86f79a\n",
      "https://instagram.faep24-1.fna.fbcdn.net/v/t51.2885-15/sh0.08/e35/s640x640/54511417_125021878566882_1399487399921541092_n.jpg?_nc_ht=instagram.faep24-1.fna.fbcdn.net&_nc_cat=106&_nc_ohc=qmQiFqqA5t8AX8XxLQI&edm=APU89FABAAAA&ccb=7-4&oh=00_AT8rc3sVNbUGemVYD-etVOmAsly70u0dSVaC7jiUMolYyw&oe=61E91040&_nc_sid=86f79a\n",
      "https://instagram.faep24-1.fna.fbcdn.net/v/t51.2885-15/sh0.08/e35/c95.0.889.889a/s640x640/52514258_615868708855877_2535931562718052780_n.jpg?_nc_ht=instagram.faep24-1.fna.fbcdn.net&_nc_cat=105&_nc_ohc=Gp0Mi-z2qyIAX_vuKQn&edm=APU89FABAAAA&ccb=7-4&oh=00_AT85s2dIsp7L1dTCQ5uDRQKukdX_bKDrapS5MBDAPQGIaQ&oe=61E7AEEC&_nc_sid=86f79a\n",
      "https://instagram.faep24-1.fna.fbcdn.net/v/t51.2885-15/sh0.08/e35/c0.134.1080.1080a/s640x640/51085303_122426762145414_2158155736908565025_n.jpg?_nc_ht=instagram.faep24-1.fna.fbcdn.net&_nc_cat=106&_nc_ohc=K87ongo81jcAX-f7cJh&edm=APU89FABAAAA&ccb=7-4&oh=00_AT_fqWZ8vHXZ-hJYLnMjti0AytPU_rw5O_4Ar8S1_-DLeQ&oe=61E938D1&_nc_sid=86f79a\n",
      "https://instagram.faep24-1.fna.fbcdn.net/v/t51.2885-15/sh0.08/e35/c0.97.779.779a/s640x640/49417829_315175535789014_1248378974612119763_n.jpg?_nc_ht=instagram.faep24-1.fna.fbcdn.net&_nc_cat=110&_nc_ohc=neq3zjiAs3cAX_CQMip&edm=APU89FABAAAA&ccb=7-4&oh=00_AT9Ccq-hrubBTTK3RktoXIlANsuJLqk7A-0kWZWzSFC3vw&oe=61E8AB52&_nc_sid=86f79a\n",
      "https://instagram.faep24-1.fna.fbcdn.net/v/t51.2885-15/sh0.08/e35/c0.100.800.800a/s640x640/49527674_777582105950380_5699795221248585026_n.jpg?_nc_ht=instagram.faep24-1.fna.fbcdn.net&_nc_cat=104&_nc_ohc=igcOZ1MemvwAX-gVy1Z&edm=APU89FABAAAA&ccb=7-4&oh=00_AT-qYtVDv2FoiyvKwNvPewpAkHhu_38OgHH54_7AVWKolg&oe=61E910B6&_nc_sid=86f79a\n",
      "https://instagram.faep24-1.fna.fbcdn.net/v/t51.2885-15/sh0.08/e35/c180.0.719.719a/s640x640/47693979_708694469565911_4719137055499072975_n.jpg?_nc_ht=instagram.faep24-1.fna.fbcdn.net&_nc_cat=111&_nc_ohc=M5fV9HUGlmEAX_bTZcV&edm=APU89FABAAAA&ccb=7-4&oh=00_AT-mWPnFg9Lyf5k67uC6KSqMPrS_JFP6Gc03bxr3R9BE-w&oe=61E8AB6E&_nc_sid=86f79a\n",
      "https://instagram.faep24-1.fna.fbcdn.net/v/t51.2885-15/e35/47582691_2383079995245481_112396952413717886_n.jpg?_nc_ht=instagram.faep24-1.fna.fbcdn.net&_nc_cat=101&_nc_ohc=Uoo9rbdjTpAAX9nNPdY&tn=YtmVweepVitSoRXv&edm=APU89FABAAAA&ccb=7-4&oh=00_AT-XC6KOZ90NHxkMlRThoIuXCq6y9z-swmv8GKi0rIWzxw&oe=61E7CAAE&_nc_sid=86f79a\n",
      "https://instagram.faep24-1.fna.fbcdn.net/v/t51.2885-15/sh0.08/e35/s640x640/46063499_1200906990056647_2687763693186738812_n.jpg?_nc_ht=instagram.faep24-1.fna.fbcdn.net&_nc_cat=107&_nc_ohc=C2SFIfNa0wIAX_cMwTu&edm=APU89FABAAAA&ccb=7-4&oh=00_AT_nQLakOtqjkD1o0QJWrz_EeNTKVQc6ceMGwUmvuwaK5Q&oe=61E8E7BD&_nc_sid=86f79a\n",
      "https://instagram.faep24-1.fna.fbcdn.net/v/t51.2885-15/e35/47690581_153680298948377_1525775545497779291_n.jpg?_nc_ht=instagram.faep24-1.fna.fbcdn.net&_nc_cat=105&_nc_ohc=Q-5isfiswPcAX-MwHkA&edm=APU89FABAAAA&ccb=7-4&oh=00_AT87gaeC1wPUt38L9ORFJKwcDqNRM7WlqZkMki60WXbeBw&oe=61E9227C&_nc_sid=86f79a\n",
      "https://instagram.faep24-1.fna.fbcdn.net/v/t51.2885-15/sh0.08/e35/c0.80.1080.1080a/s640x640/46627369_1977623429200563_5366951393720781611_n.jpg?_nc_ht=instagram.faep24-1.fna.fbcdn.net&_nc_cat=103&_nc_ohc=eFyhnmKExfEAX8vKOtE&edm=APU89FABAAAA&ccb=7-4&oh=00_AT_Hhi2iZO2jeaKZN9Etec0NpgeOkFOLGg-AwySsX7qjYA&oe=61E9357A&_nc_sid=86f79a\n",
      "https://instagram.faep24-1.fna.fbcdn.net/v/t51.2885-15/sh0.08/e35/s640x640/46644001_507223873100550_3261668183223611487_n.jpg?_nc_ht=instagram.faep24-1.fna.fbcdn.net&_nc_cat=106&_nc_ohc=YIGWAt3C3jQAX9peZCF&edm=APU89FABAAAA&ccb=7-4&oh=00_AT_KXptaMsTcX0xUOmDAN6JlYsAbim62ae6TMFKaZbMuFg&oe=61E83EC1&_nc_sid=86f79a\n",
      "https://instagram.faep24-1.fna.fbcdn.net/v/t51.2885-15/sh0.08/e35/c0.134.1080.1080a/s640x640/46533319_2243555995657666_777592571048274819_n.jpg?_nc_ht=instagram.faep24-1.fna.fbcdn.net&_nc_cat=110&_nc_ohc=XfNwBfSs9KkAX9FzLWY&edm=APU89FABAAAA&ccb=7-4&oh=00_AT8ezWYgottT3al9kuTaFUkmqxZYylDTQy9jwR3Rd6vyjg&oe=61E8711C&_nc_sid=86f79a\n",
      "https://instagram.faep24-1.fna.fbcdn.net/v/t51.2885-15/sh0.08/e35/c135.0.810.810a/s640x640/47446415_323834248215975_7850369627091073000_n.jpg?_nc_ht=instagram.faep24-1.fna.fbcdn.net&_nc_cat=103&_nc_ohc=C874sttbX9AAX_2QDyv&edm=APU89FABAAAA&ccb=7-4&oh=00_AT9ERGRszcPirnSml8K4U4sBtunsvU809GtsjdUIDoUogw&oe=61E7B05B&_nc_sid=86f79a\n",
      "https://instagram.faep24-1.fna.fbcdn.net/v/t51.2885-15/sh0.08/e35/c0.135.1080.1080a/s640x640/46819840_2124162637627243_6649254156605195832_n.jpg?_nc_ht=instagram.faep24-1.fna.fbcdn.net&_nc_cat=107&_nc_ohc=mn0LJ-HoRHkAX97Rbng&edm=APU89FABAAAA&ccb=7-4&oh=00_AT9gF3FSKW0mrnl3gfmTeCfGmTmaIv71wdBECL5f6zLVZQ&oe=61E80452&_nc_sid=86f79a\n",
      "https://instagram.faep24-1.fna.fbcdn.net/v/t51.2885-15/sh0.08/e35/c0.41.1080.1080a/s640x640/47086986_302177373738057_5682756885485278270_n.jpg?_nc_ht=instagram.faep24-1.fna.fbcdn.net&_nc_cat=109&_nc_ohc=agXfI6ZcPkgAX83tX42&edm=APU89FABAAAA&ccb=7-4&oh=00_AT_YzLHdhH4X5q-ocVnt9fG2upR_SCGJUHc4uHIX6bCVsg&oe=61E89533&_nc_sid=86f79a\n",
      "https://instagram.faep24-1.fna.fbcdn.net/v/t51.2885-15/sh0.08/e35/s640x640/46969616_2076579315731989_24934588740618806_n.jpg?_nc_ht=instagram.faep24-1.fna.fbcdn.net&_nc_cat=101&_nc_ohc=fk7bS6qcx0UAX8Hh0Zx&edm=APU89FABAAAA&ccb=7-4&oh=00_AT_Smru0zVQcdPdFQNRgglCHvN8QWpVNMgLoTzJ7ZNGPdQ&oe=61E8242A&_nc_sid=86f79a\n",
      "https://instagram.faep24-1.fna.fbcdn.net/v/t51.2885-15/sh0.08/e35/s640x640/46708596_163157521316354_7539171992871017360_n.jpg?_nc_ht=instagram.faep24-1.fna.fbcdn.net&_nc_cat=102&_nc_ohc=iC9ESNxT5kcAX_6V1mN&edm=APU89FABAAAA&ccb=7-4&oh=00_AT8Mg_4kWpWtQq4WaRhgL_zHnTLRLGzzc8gRr02Ss_AHmQ&oe=61E82256&_nc_sid=86f79a\n",
      "https://instagram.faep24-1.fna.fbcdn.net/v/t51.2885-15/sh0.08/e35/c90.0.900.900a/s640x640/46232583_350494578866698_2885642650615849473_n.jpg?_nc_ht=instagram.faep24-1.fna.fbcdn.net&_nc_cat=110&_nc_ohc=Ei48Okb-obgAX80rWKG&edm=APU89FABAAAA&ccb=7-4&oh=00_AT-BPkfNefqseoEbyD6hM8MgQaFsF4d_zOIRvLfjtqBsBA&oe=61E94693&_nc_sid=86f79a\n",
      "https://instagram.faep24-1.fna.fbcdn.net/v/t51.2885-15/e35/c47.0.511.511a/46231115_774033532932565_2280233334234103268_n.jpg?_nc_ht=instagram.faep24-1.fna.fbcdn.net&_nc_cat=101&_nc_ohc=_QuY9J0AEFUAX9YOBBy&edm=APU89FABAAAA&ccb=7-4&oh=00_AT_S0Ln7pFOc0mi7u7Gp3bok_B-KzRDozt2_Ib-VCKrODA&oe=61E89B6F&_nc_sid=86f79a\n",
      "https://instagram.faep24-1.fna.fbcdn.net/v/t51.2885-15/e35/c27.0.605.605a/46762937_188746708665506_2338648576214214928_n.jpg?_nc_ht=instagram.faep24-1.fna.fbcdn.net&_nc_cat=102&_nc_ohc=zbhEsfPqSJ8AX9mPsiB&tn=YtmVweepVitSoRXv&edm=APU89FABAAAA&ccb=7-4&oh=00_AT-KzdQXqln92ozU3fRY11Eqknx9DKnGhs3PYz8etWi_1Q&oe=61E81609&_nc_sid=86f79a\n",
      "https://instagram.faep24-1.fna.fbcdn.net/v/t51.2885-15/e15/46117952_2213851502270349_646598476730614896_n.jpg?_nc_ht=instagram.faep24-1.fna.fbcdn.net&_nc_cat=109&_nc_ohc=VXwz3bF4fOkAX8eVDxf&edm=APU89FABAAAA&ccb=7-4&oh=00_AT8OZkJeoc-GSyVte6EJK5KHcrMWIRawFttQbUU3mTZu0g&oe=61E3E746&_nc_sid=86f79a\n",
      "https://instagram.faep24-1.fna.fbcdn.net/v/t51.2885-15/e35/c73.0.333.333a/46177689_329000434598275_893705921739518358_n.jpg?_nc_ht=instagram.faep24-1.fna.fbcdn.net&_nc_cat=107&_nc_ohc=Hd05HiEBIiAAX_LpBbH&edm=APU89FABAAAA&ccb=7-4&oh=00_AT_g_di4QHAgh92QtxI5Iz3PP9KRHLx63cQCBeUaU0ycsg&oe=61E86B7F&_nc_sid=86f79a\n",
      "https://instagram.faep24-1.fna.fbcdn.net/v/t51.2885-15/sh0.08/e35/s640x640/45493021_493478054481628_2088616369819625966_n.jpg?_nc_ht=instagram.faep24-1.fna.fbcdn.net&_nc_cat=104&_nc_ohc=m-fEeLz7D-kAX9PeTOv&edm=APU89FABAAAA&ccb=7-4&oh=00_AT-dbm5HZnjfxGRxpD0tQiprFkMgM2oRNUPnjwTqvDrk_g&oe=61E9618E&_nc_sid=86f79a\n",
      "https://instagram.faep24-1.fna.fbcdn.net/v/t51.2885-15/sh0.08/e35/c0.39.1080.1080a/s640x640/45361222_265057210860405_4364876591854719187_n.jpg?_nc_ht=instagram.faep24-1.fna.fbcdn.net&_nc_cat=109&_nc_ohc=U_2Tc58llSQAX80eT9n&edm=APU89FABAAAA&ccb=7-4&oh=00_AT8CqlmykTxzg54ey-3Xmsyo1IbUwAeBmGqix5UpjGS7mA&oe=61E9735C&_nc_sid=86f79a\n",
      "https://instagram.faep24-1.fna.fbcdn.net/v/t51.2885-15/sh0.08/e35/s640x640/43009197_970394043150846_766308096112402211_n.jpg?_nc_ht=instagram.faep24-1.fna.fbcdn.net&_nc_cat=106&_nc_ohc=raaNEwSjBhcAX8xTLFx&edm=APU89FABAAAA&ccb=7-4&oh=00_AT87wYdduBTT-TvMhjeiZGlAA95Zpau9vc7MTXrVUk-NbQ&oe=61E8697F&_nc_sid=86f79a\n",
      "https://instagram.faep24-1.fna.fbcdn.net/v/t51.2885-15/sh0.08/e35/c126.0.720.720a/s640x640/46428379_1944520792309241_6891632869499523962_n.jpg?_nc_ht=instagram.faep24-1.fna.fbcdn.net&_nc_cat=105&_nc_ohc=qlKtGws8Mh0AX-pFJJQ&edm=APU89FABAAAA&ccb=7-4&oh=00_AT8hfO-qVrQhDk-6wwYAgWB6V890dYKmxjWvj0fHmLflew&oe=61E7C713&_nc_sid=86f79a\n",
      "https://instagram.faep24-1.fna.fbcdn.net/v/t51.2885-15/sh0.08/e35/s640x640/43360370_349492742526609_3991924585176148685_n.jpg?_nc_ht=instagram.faep24-1.fna.fbcdn.net&_nc_cat=109&_nc_ohc=CpLSNJqZ-9cAX8dp3DE&edm=APU89FABAAAA&ccb=7-4&oh=00_AT9XHqme5JbC3pZw_c9srCl0vXSourJOR20Zdti8g0Jc_A&oe=61E7EBB7&_nc_sid=86f79a\n",
      "https://instagram.faep24-1.fna.fbcdn.net/v/t51.2885-15/sh0.08/e35/c63.0.954.954a/s640x640/44374085_201849780713490_2888593780814320012_n.jpg?_nc_ht=instagram.faep24-1.fna.fbcdn.net&_nc_cat=106&_nc_ohc=3l5JIh1m94EAX995rh2&edm=APU89FABAAAA&ccb=7-4&oh=00_AT-ozOio5BBds-iUgnA7Ec_opEiOR4civ1UaD5Cpqc_jzg&oe=61E9744F&_nc_sid=86f79a\n",
      "https://instagram.faep24-1.fna.fbcdn.net/v/t51.2885-15/sh0.08/e35/c0.95.1080.1080a/s640x640/44575997_2023328084379761_1624156458467048399_n.jpg?_nc_ht=instagram.faep24-1.fna.fbcdn.net&_nc_cat=105&_nc_ohc=gL61lQxeQroAX_7o6-V&edm=APU89FABAAAA&ccb=7-4&oh=00_AT_Txx-4OL-8PDnpZ6ijFTQU4xC9Wr9EitOe4f2zEOhyJw&oe=61E8BB9B&_nc_sid=86f79a\n",
      "https://instagram.faep24-1.fna.fbcdn.net/v/t51.2885-15/sh0.08/e35/c0.24.681.681a/s640x640/44000062_2158301264497974_4314223675301608045_n.jpg?_nc_ht=instagram.faep24-1.fna.fbcdn.net&_nc_cat=106&_nc_ohc=Qfr8nZMQ0C0AX9anRl0&edm=APU89FABAAAA&ccb=7-4&oh=00_AT9ZWYfY0vp7XC--s8Y-xkYTvfSH4xb3cPXLD5jPaSoTRw&oe=61E7FBEF&_nc_sid=86f79a\n",
      "https://instagram.faep24-1.fna.fbcdn.net/v/t51.2885-15/sh0.08/e35/s640x640/44395405_2175636259377661_8700371913261767899_n.jpg?_nc_ht=instagram.faep24-1.fna.fbcdn.net&_nc_cat=101&_nc_ohc=Di2zQNQx8fAAX-gfHz0&tn=YtmVweepVitSoRXv&edm=APU89FABAAAA&ccb=7-4&oh=00_AT9Z5VacuMz5j0hjvJKY9k1TXw_2oa0bmRJJlMCgcdNUFQ&oe=61E7E825&_nc_sid=86f79a\n",
      "https://instagram.faep24-1.fna.fbcdn.net/v/t51.2885-15/sh0.08/e35/s640x640/44860743_120064038984367_4713415684769145133_n.jpg?_nc_ht=instagram.faep24-1.fna.fbcdn.net&_nc_cat=107&_nc_ohc=iQB_V-N25ZkAX9-P3i5&edm=APU89FABAAAA&ccb=7-4&oh=00_AT-bs9jHKKUoCZO9HluMe4a7CRsluFnqSy8BPJpQDQI6Fg&oe=61E8C4F6&_nc_sid=86f79a\n",
      "https://instagram.faep24-1.fna.fbcdn.net/v/t51.2885-15/sh0.08/e35/s640x640/43915222_2173080106342518_2325127132466363646_n.jpg?_nc_ht=instagram.faep24-1.fna.fbcdn.net&_nc_cat=106&_nc_ohc=SyItyLX0ZkgAX_e2za3&edm=APU89FABAAAA&ccb=7-4&oh=00_AT80-xuyS8QQT2NnKVVPJFoH8WWMg5qksFxdDvt5xKCfoA&oe=61E81A85&_nc_sid=86f79a\n",
      "https://instagram.faep24-1.fna.fbcdn.net/v/t51.2885-15/sh0.08/e35/s640x640/43182721_477275166113464_802724039331353369_n.jpg?_nc_ht=instagram.faep24-1.fna.fbcdn.net&_nc_cat=104&_nc_ohc=uehOoAvCkH8AX9Rc06l&edm=APU89FABAAAA&ccb=7-4&oh=00_AT-VMwJSWtrpHYSK2AAGvInUP3MeC8P1m_Yi2_mVi12iYg&oe=61E93AD1&_nc_sid=86f79a\n",
      "https://instagram.faep24-1.fna.fbcdn.net/v/t51.2885-15/sh0.08/e35/s640x640/42509154_250220825621852_1668796726849509726_n.jpg?_nc_ht=instagram.faep24-1.fna.fbcdn.net&_nc_cat=108&_nc_ohc=wTokqR9vD7UAX_1bcZY&edm=APU89FABAAAA&ccb=7-4&oh=00_AT-TwJGkzpe3J8P-kfFhzeyoJ10E4zeXonWTNAlLCOLTrQ&oe=61E82EA3&_nc_sid=86f79a\n",
      "https://instagram.faep24-1.fna.fbcdn.net/v/t51.2885-15/sh0.08/e35/s640x640/43817654_522292971569791_714783309134811282_n.jpg?_nc_ht=instagram.faep24-1.fna.fbcdn.net&_nc_cat=107&_nc_ohc=wcZq7cxNe3kAX_Hvnud&tn=YtmVweepVitSoRXv&edm=APU89FABAAAA&ccb=7-4&oh=00_AT_Q3urayYVopAW7r4F9mSByDnJ0t_uNIBtrRSWcZJ9wPQ&oe=61E86161&_nc_sid=86f79a\n",
      "https://instagram.faep24-1.fna.fbcdn.net/v/t51.2885-15/sh0.08/e35/c3.0.701.701a/s640x640/43673871_280506022800546_6665798460305528761_n.jpg?_nc_ht=instagram.faep24-1.fna.fbcdn.net&_nc_cat=106&_nc_ohc=Z3cZ2j269CoAX9tx0eU&edm=APU89FABAAAA&ccb=7-4&oh=00_AT8oAkx7tVc8YGoxw2ndwON6_-p9AxZCKFHvHsqXREqorw&oe=61E7A8A4&_nc_sid=86f79a\n",
      "https://instagram.faep24-1.fna.fbcdn.net/v/t51.2885-15/sh0.08/e35/c0.114.913.913a/s640x640/43718963_1999616990131181_6306662907408024641_n.jpg?_nc_ht=instagram.faep24-1.fna.fbcdn.net&_nc_cat=105&_nc_ohc=euGgUhqK4DYAX-1cO7p&edm=APU89FABAAAA&ccb=7-4&oh=00_AT8Qb7EO3_MKidZ3D3WWqh-rA9eRAUX6aY6zMev-_zCaKQ&oe=61E8876A&_nc_sid=86f79a\n",
      "https://instagram.faep24-1.fna.fbcdn.net/v/t51.2885-15/sh0.08/e35/s640x640/43779345_1673622812742768_8604361831650212812_n.jpg?_nc_ht=instagram.faep24-1.fna.fbcdn.net&_nc_cat=100&_nc_ohc=yZ_pX-YbhjwAX8tBEmk&edm=APU89FABAAAA&ccb=7-4&oh=00_AT8UiONvUd2M-tnHIhvcCE4X0WGhV3uqUwnnut_sfBF0kQ&oe=61E978D5&_nc_sid=86f79a\n",
      "https://instagram.faep24-1.fna.fbcdn.net/v/t51.2885-15/sh0.08/e35/s640x640/43617677_930517793803519_702210456883129611_n.jpg?_nc_ht=instagram.faep24-1.fna.fbcdn.net&_nc_cat=107&_nc_ohc=ew_EXUa2RKwAX-_hFLk&edm=APU89FABAAAA&ccb=7-4&oh=00_AT8mTEV1QoCtjEQKek2l5RVB6iM27kx23L30l7_Esau15g&oe=61E882D6&_nc_sid=86f79a\n",
      "https://instagram.faep24-1.fna.fbcdn.net/v/t51.2885-15/sh0.08/e35/c98.0.884.884a/s640x640/42701227_489632358206782_2321033416787362027_n.jpg?_nc_ht=instagram.faep24-1.fna.fbcdn.net&_nc_cat=110&_nc_ohc=9J7_ml6dYfAAX-TINIy&tn=YtmVweepVitSoRXv&edm=APU89FABAAAA&ccb=7-4&oh=00_AT9-rKq9FiiBPqHNt8I0Xhje7VGMe8HKGJ007nhcMP7tuA&oe=61E7D3B3&_nc_sid=86f79a\n",
      "https://instagram.faep24-1.fna.fbcdn.net/v/t51.2885-15/sh0.08/e35/c0.78.1080.1080a/s640x640/42068930_1454146134729766_3395807795572554254_n.jpg?_nc_ht=instagram.faep24-1.fna.fbcdn.net&_nc_cat=110&_nc_ohc=UStiqCeqR60AX9FMG02&edm=APU89FABAAAA&ccb=7-4&oh=00_AT9NVeNp7l44Jo1So42bE4W_oAJOcX_oJ6wcQwZUwdUlkg&oe=61E88AA5&_nc_sid=86f79a\n",
      "https://instagram.faep24-1.fna.fbcdn.net/v/t51.2885-15/sh0.08/e35/c98.0.838.838a/s640x640/43185523_2147489315272614_4278592888021169100_n.jpg?_nc_ht=instagram.faep24-1.fna.fbcdn.net&_nc_cat=106&_nc_ohc=EqcKeGQTO04AX8TXCYc&tn=YtmVweepVitSoRXv&edm=APU89FABAAAA&ccb=7-4&oh=00_AT-BMQMnNlXeNxt0MOZPJ-MvOsM_45nmCKUJWEJWx78W6Q&oe=61E8F10C&_nc_sid=86f79a\n",
      "https://instagram.faep24-1.fna.fbcdn.net/v/t51.2885-15/sh0.08/e35/s640x640/42664926_665900720459932_2419893798534263611_n.jpg?_nc_ht=instagram.faep24-1.fna.fbcdn.net&_nc_cat=104&_nc_ohc=Fv8QFjpL8ecAX8jI4od&edm=APU89FABAAAA&ccb=7-4&oh=00_AT-NpuJCa03IcVjbQtVg00kpNXjcwFYO636nlX44MeYmOA&oe=61E82069&_nc_sid=86f79a\n",
      "https://instagram.faep24-1.fna.fbcdn.net/v/t51.2885-15/sh0.08/e35/s640x640/41848923_1893279404087202_8708208061742879406_n.jpg?_nc_ht=instagram.faep24-1.fna.fbcdn.net&_nc_cat=106&_nc_ohc=4AKnSmZ_MWUAX82445S&edm=APU89FABAAAA&ccb=7-4&oh=00_AT8zoXdImbB9MYl6EAwh6XdnYZyd0wVRgDi-CK759U509w&oe=61E89906&_nc_sid=86f79a\n",
      "https://instagram.faep24-1.fna.fbcdn.net/v/t51.2885-15/sh0.08/e35/s640x640/41760203_2108046722568339_5506331001039264882_n.jpg?_nc_ht=instagram.faep24-1.fna.fbcdn.net&_nc_cat=103&_nc_ohc=Woz4n8EdHMMAX9djZCh&tn=YtmVweepVitSoRXv&edm=APU89FABAAAA&ccb=7-4&oh=00_AT9slLeNGa60dvx0Ed1n8148eNRNQeSRdoPvdEEOoP9UvQ&oe=61E983A5&_nc_sid=86f79a\n",
      "https://instagram.faep24-1.fna.fbcdn.net/v/t51.2885-15/sh0.08/e35/s640x640/41969358_974170809424747_4832163099815725618_n.jpg?_nc_ht=instagram.faep24-1.fna.fbcdn.net&_nc_cat=107&_nc_ohc=E38Tl3CqOrAAX_DYVjl&edm=APU89FABAAAA&ccb=7-4&oh=00_AT9gcjKTNKu0j526O6eLQyejDe88bQlfk7QQrALxO6rkDg&oe=61E95AC9&_nc_sid=86f79a\n",
      "https://instagram.faep24-1.fna.fbcdn.net/v/t51.2885-15/sh0.08/e35/s640x640/41966148_170796947166923_8012214653019467446_n.jpg?_nc_ht=instagram.faep24-1.fna.fbcdn.net&_nc_cat=111&_nc_ohc=G0qDc9Mwaw8AX-T_eOd&edm=APU89FABAAAA&ccb=7-4&oh=00_AT-Z-OglofBjOezTv3Bw9yP5dfcfXPUGy9v9yqkkhaJ2ew&oe=61E8F368&_nc_sid=86f79a\n",
      "https://instagram.faep24-1.fna.fbcdn.net/v/t51.2885-15/sh0.08/e35/s640x640/42002900_165721977689693_7536830881745480090_n.jpg?_nc_ht=instagram.faep24-1.fna.fbcdn.net&_nc_cat=105&_nc_ohc=1m0YKkmeKBoAX8RpmqR&tn=YtmVweepVitSoRXv&edm=APU89FABAAAA&ccb=7-4&oh=00_AT_Z1F3RzHqU7qg3UYqxqSA7aCziiokXQRsBwoEsurcVHw&oe=61E790BC&_nc_sid=86f79a\n",
      "https://instagram.faep24-1.fna.fbcdn.net/v/t51.2885-15/e35/c137.0.603.603a/41704039_469056450280510_4877872687047191159_n.jpg?_nc_ht=instagram.faep24-1.fna.fbcdn.net&_nc_cat=110&_nc_ohc=9CZBXu_57fYAX8CewMi&edm=APU89FABAAAA&ccb=7-4&oh=00_AT8tyQklOpmt1rt0fqLrDx2Ju2cexE7h8wGOpPlUd259CQ&oe=61E95060&_nc_sid=86f79a\n",
      "https://instagram.faep24-1.fna.fbcdn.net/v/t51.2885-15/sh0.08/e35/s640x640/42323488_472230873267345_2938086898304645545_n.jpg?_nc_ht=instagram.faep24-1.fna.fbcdn.net&_nc_cat=109&_nc_ohc=UJCEH_zoz7YAX_DVFzw&edm=APU89FABAAAA&ccb=7-4&oh=00_AT8sbNreZEtDmWW4NcNjsuMJhzT6f9Wdh2LOxGLzDMA1Fg&oe=61E97748&_nc_sid=86f79a\n",
      "got imgs:  243\n",
      "done with scrolling\n"
     ]
    }
   ],
   "source": [
    "class Scraper:\n",
    "\tdef scrap_page_image_publications(self,driver):\n",
    "\t\tself.images = []\n",
    "\t\tpage_height = driver.execute_script(\"return document.body.scrollHeight\")   \n",
    "\t\ti = 1\n",
    "\t\tlast_page_height = 0\n",
    "        \n",
    "\t\twhile (last_page_height < page_height):\n",
    "\t\t\tdriver.execute_script(f\"window.scrollTo(0,{10000*8*i*i})\")\n",
    "\t\t\tlast_page_height = page_height\n",
    "\t\t\ttime.sleep(3)\n",
    "\t\t\tpage_height = driver.execute_script(\"return document.body.scrollHeight\")\n",
    "\t\t\tself.get_imgs(Scraper, driver)\n",
    "\t\tprint(\"got imgs: \",len(self.images))\n",
    "\t\tprint(\"done with scrolling\")           \n",
    "             \n",
    "\tdef get_imgs(self, driver):\n",
    "\t\tarticle = driver.find_element(By.CSS_SELECTOR, \"article.ySN3v\")\n",
    "\t\tpublications = article.find_elements(By.CSS_SELECTOR, \"div.eLAPa\")\n",
    "\t\tfor publication in publications:\n",
    "\t\t\tpublication_img = publication.find_element(By.TAG_NAME, \"img\")\n",
    "\t\t\turl = publication_img.get_attribute('src')\n",
    "\t\t\tif url not in self.images:\n",
    "\t\t\t\tself.images.append(url)\n",
    "\n",
    "\tdef save_imgs(self, driver):\n",
    "\t\tprofile = driver.find_element(By.TAG_NAME, \"h2\").text\n",
    "\t\tif not(os.path.exists(f\"scraped_data\\{profile}\")):\n",
    "\t\t\tos.makedirs(f\"scraped_data\\{profile}\")\n",
    "\t\tnumber=1\n",
    "\t\tfor url in self.images:\n",
    "\t\t\tprint(number, end=' ')\n",
    "\t\t\ttry:\n",
    "\t\t\t\tfile = requests.get(url, allow_redirects=True)\n",
    "\t\t\texcept:\n",
    "\t\t\t\tprint(f\"numero: {number}, en get url\")\n",
    "                      \n",
    "\t\t\ttry:\n",
    "\t\t\t\topen(f\"scraped_data\\{profile}\\{profile}-{number}.jpg\", 'wb').write(file.content)\n",
    "\t\t\texcept:\n",
    "\t\t\t\tprint(f\"numero: {number}, en write img\")\n",
    "\t\t\t\tcontinue\n",
    "\t\t\tnumber += 1\n",
    "                \n",
    "for page in pages:\n",
    "\tdriver.get(page)\n",
    "\tWebDriverWait(driver, 15).until(EC.element_to_be_clickable((By.CSS_SELECTOR, 'input[placeholder = \"Search\"]')))\n",
    "\tScraper.scrap_page_image_publications(Scraper, driver)"
   ]
  },
  {
   "cell_type": "code",
   "execution_count": 14,
   "id": "e003ac54-2360-4bae-a76f-96ebce45b2ee",
   "metadata": {},
   "outputs": [
    {
     "name": "stdout",
     "output_type": "stream",
     "text": [
      "1 2 3 4 5 6 7 8 9 10 11 12 13 14 15 16 17 18 19 20 21 22 23 24 25 26 27 28 29 30 31 32 33 34 35 36 37 38 39 40 41 42 43 44 45 46 47 48 49 50 51 52 53 54 55 56 57 58 59 60 61 62 63 64 65 66 67 68 69 70 71 72 73 74 75 76 77 78 79 80 81 82 83 84 85 86 87 88 89 90 91 92 93 94 95 96 97 98 99 100 101 102 103 104 105 106 107 108 109 110 111 112 113 114 115 116 117 118 119 120 121 122 123 124 125 126 127 128 129 130 131 132 133 134 135 136 137 138 139 140 141 142 143 144 145 146 147 148 149 150 151 152 153 154 155 156 157 158 159 160 161 162 163 164 165 166 167 168 169 170 171 172 173 174 175 176 177 178 179 180 181 182 183 184 185 186 187 188 189 190 191 192 193 194 195 196 197 198 199 200 201 202 203 204 205 206 207 208 209 210 211 212 213 214 215 216 217 218 219 220 221 222 223 224 225 226 227 228 229 230 231 232 233 234 235 236 237 238 239 240 241 242 243 "
     ]
    }
   ],
   "source": [
    "Scraper.save_imgs(Scraper, driver)"
   ]
  },
  {
   "cell_type": "code",
   "execution_count": 15,
   "id": "86598110-0cf8-462b-a229-25e1663f4abd",
   "metadata": {},
   "outputs": [
    {
     "data": {
      "text/plain": [
       "<selenium.webdriver.remote.webelement.WebElement (session=\"fda86e919b4edeb5b2cf39713bd5981f\", element=\"51517324-46e1-4f9e-a958-86e932d8a5c0\")>"
      ]
     },
     "execution_count": 15,
     "metadata": {},
     "output_type": "execute_result"
    }
   ],
   "source": [
    "driver.find_element(By.XPATH, \"//h2[contains(text(), 'This Account is Private')]\")"
   ]
  },
  {
   "cell_type": "code",
   "execution_count": 19,
   "id": "784d005c-bbcd-4bf0-a7ba-db5a12b08129",
   "metadata": {},
   "outputs": [
    {
     "data": {
      "text/plain": [
       "<function selenium.webdriver.support.expected_conditions.text_to_be_present_in_element_value.<locals>._predicate(driver)>"
      ]
     },
     "execution_count": 19,
     "metadata": {},
     "output_type": "execute_result"
    }
   ],
   "source": [
    "(EC.text_to_be_present_in_element_value((By.TAG_NAME, \"h2\"),text_= \"This Account is Private\"))"
   ]
  },
  {
   "cell_type": "code",
   "execution_count": 23,
   "id": "51d93a32-bed5-4488-a003-316482790f98",
   "metadata": {},
   "outputs": [],
   "source": [
    "from selenium.common.exceptions import NoSuchElementException"
   ]
  },
  {
   "cell_type": "code",
   "execution_count": 30,
   "id": "501b1aa1-d760-4fac-aa50-8f97216c9f1f",
   "metadata": {},
   "outputs": [],
   "source": [
    "\tdef have_access(driver):\n",
    "\t\ttry:\n",
    "\t\t\tdriver.find_element(By.CSS_SELECTOR, \"h2.rkEop\")\n",
    "\t\texcept NoSuchElementException:\n",
    "\t\t\treturn True\n",
    "\t\treturn False"
   ]
  },
  {
   "cell_type": "code",
   "execution_count": 33,
   "id": "ab3328e2-9213-4bbe-bcf7-4fddc2fd8051",
   "metadata": {
    "tags": []
   },
   "outputs": [
    {
     "data": {
      "text/plain": [
       "False"
      ]
     },
     "execution_count": 33,
     "metadata": {},
     "output_type": "execute_result"
    }
   ],
   "source": [
    "have_access(driver)"
   ]
  },
  {
   "cell_type": "code",
   "execution_count": null,
   "id": "58fc6ed6-fb8c-4595-8a26-15ebf9453444",
   "metadata": {},
   "outputs": [],
   "source": []
  }
 ],
 "metadata": {
  "kernelspec": {
   "display_name": "Python 3 (ipykernel)",
   "language": "python",
   "name": "python3"
  },
  "language_info": {
   "codemirror_mode": {
    "name": "ipython",
    "version": 3
   },
   "file_extension": ".py",
   "mimetype": "text/x-python",
   "name": "python",
   "nbconvert_exporter": "python",
   "pygments_lexer": "ipython3",
   "version": "3.9.7"
  }
 },
 "nbformat": 4,
 "nbformat_minor": 5
}
